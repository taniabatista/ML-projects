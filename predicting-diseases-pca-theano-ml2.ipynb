{
 "cells": [
  {
   "cell_type": "markdown",
   "metadata": {},
   "source": [
    "# EJERCICIO 1: PREDICCION DE ENFERMEDADES"
   ]
  },
  {
   "cell_type": "markdown",
   "metadata": {},
   "source": [
    "### A) Crear un modelo que permite predecir con los datos suministrados:\n",
    "####                I. Enfermedad D1, Imflamacion\n",
    "####                II. Enfermedad D2, Nefritis\n",
    "\n",
    "### B) Evaluar el rendimiento de los modelos."
   ]
  },
  {
   "cell_type": "markdown",
   "metadata": {},
   "source": [
    "En el archivo \"diagnosis.csv\" Los datos han sido creados por un experto médico para poner a prueba un modelo que permite predecir dos enfermedades del sistema urinario. "
   ]
  },
  {
   "cell_type": "markdown",
   "metadata": {},
   "source": [
    "#### Los datos son:"
   ]
  },
  {
   "cell_type": "markdown",
   "metadata": {},
   "source": [
    "- id: identificado del registro\n",
    "\n",
    "- a1: temperatura del paciente\n",
    "\n",
    "- a2: ocurrencia de nauseas\n",
    "\n",
    "- a3: dolor lumbar\n",
    "\n",
    "- a4: necesidad continua de orinar\n",
    "\n",
    "- a5: dolores miccionales\n",
    "\n",
    "- a6: ardor de la uretra, picazón o hinchazón de la salida de la uretra"
   ]
  },
  {
   "cell_type": "markdown",
   "metadata": {},
   "source": [
    "#### Las enfermedades que se desean evaluar son:"
   ]
  },
  {
   "cell_type": "markdown",
   "metadata": {},
   "source": [
    "- d1: inflamación de la vejiga urinaria\n",
    "\n",
    "- d2: nefritis de origen en la pelvis renal"
   ]
  },
  {
   "cell_type": "markdown",
   "metadata": {},
   "source": [
    "###  . . . . . . . . . . . . . . . . . . . . . . . . . . . . . .. . . . . . . . .. . . . . ."
   ]
  },
  {
   "cell_type": "markdown",
   "metadata": {},
   "source": [
    "# A) CREAR MODELOS\n",
    "###### I will be following the steps observed in 03_05_Titanic.ipynb"
   ]
  },
  {
   "cell_type": "markdown",
   "metadata": {},
   "source": [
    "### ~ STEP: IMPORT THE DATA ~ "
   ]
  },
  {
   "cell_type": "code",
   "execution_count": 1,
   "metadata": {},
   "outputs": [
    {
     "name": "stdout",
     "output_type": "stream",
     "text": [
      "Using matplotlib backend: Qt5Agg\n",
      "Populating the interactive namespace from numpy and matplotlib\n"
     ]
    }
   ],
   "source": [
    "%pylab\n",
    "%matplotlib inline"
   ]
  },
  {
   "cell_type": "code",
   "execution_count": 2,
   "metadata": {},
   "outputs": [
    {
     "data": {
      "text/html": [
       "<div>\n",
       "<style scoped>\n",
       "    .dataframe tbody tr th:only-of-type {\n",
       "        vertical-align: middle;\n",
       "    }\n",
       "\n",
       "    .dataframe tbody tr th {\n",
       "        vertical-align: top;\n",
       "    }\n",
       "\n",
       "    .dataframe thead th {\n",
       "        text-align: right;\n",
       "    }\n",
       "</style>\n",
       "<table border=\"1\" class=\"dataframe\">\n",
       "  <thead>\n",
       "    <tr style=\"text-align: right;\">\n",
       "      <th></th>\n",
       "      <th>ID</th>\n",
       "      <th>a1_Temp</th>\n",
       "      <th>a2_Naus</th>\n",
       "      <th>a3_Lumb</th>\n",
       "      <th>a4_Uri</th>\n",
       "      <th>a5_Mic</th>\n",
       "      <th>a6_Ur</th>\n",
       "      <th>d1_Infl</th>\n",
       "      <th>d2_Nefr</th>\n",
       "    </tr>\n",
       "  </thead>\n",
       "  <tbody>\n",
       "    <tr>\n",
       "      <th>0</th>\n",
       "      <td>1</td>\n",
       "      <td>35.5</td>\n",
       "      <td>0</td>\n",
       "      <td>1</td>\n",
       "      <td>0</td>\n",
       "      <td>0</td>\n",
       "      <td>0</td>\n",
       "      <td>0</td>\n",
       "      <td>0</td>\n",
       "    </tr>\n",
       "    <tr>\n",
       "      <th>1</th>\n",
       "      <td>2</td>\n",
       "      <td>35.9</td>\n",
       "      <td>0</td>\n",
       "      <td>0</td>\n",
       "      <td>1</td>\n",
       "      <td>1</td>\n",
       "      <td>1</td>\n",
       "      <td>1</td>\n",
       "      <td>0</td>\n",
       "    </tr>\n",
       "    <tr>\n",
       "      <th>2</th>\n",
       "      <td>3</td>\n",
       "      <td>35.9</td>\n",
       "      <td>0</td>\n",
       "      <td>1</td>\n",
       "      <td>0</td>\n",
       "      <td>0</td>\n",
       "      <td>0</td>\n",
       "      <td>0</td>\n",
       "      <td>0</td>\n",
       "    </tr>\n",
       "    <tr>\n",
       "      <th>3</th>\n",
       "      <td>4</td>\n",
       "      <td>36.0</td>\n",
       "      <td>0</td>\n",
       "      <td>0</td>\n",
       "      <td>1</td>\n",
       "      <td>1</td>\n",
       "      <td>1</td>\n",
       "      <td>1</td>\n",
       "      <td>0</td>\n",
       "    </tr>\n",
       "    <tr>\n",
       "      <th>4</th>\n",
       "      <td>5</td>\n",
       "      <td>36.0</td>\n",
       "      <td>0</td>\n",
       "      <td>1</td>\n",
       "      <td>0</td>\n",
       "      <td>0</td>\n",
       "      <td>0</td>\n",
       "      <td>0</td>\n",
       "      <td>0</td>\n",
       "    </tr>\n",
       "  </tbody>\n",
       "</table>\n",
       "</div>"
      ],
      "text/plain": [
       "   ID  a1_Temp  a2_Naus  a3_Lumb  a4_Uri  a5_Mic  a6_Ur  d1_Infl  d2_Nefr\n",
       "0   1     35.5        0        1       0       0      0        0        0\n",
       "1   2     35.9        0        0       1       1      1        1        0\n",
       "2   3     35.9        0        1       0       0      0        0        0\n",
       "3   4     36.0        0        0       1       1      1        1        0\n",
       "4   5     36.0        0        1       0       0      0        0        0"
      ]
     },
     "execution_count": 2,
     "metadata": {},
     "output_type": "execute_result"
    }
   ],
   "source": [
    "import pandas as pd\n",
    "\n",
    "\n",
    "diagnosis = pd.read_csv(\"diagnosis.csv\", sep = \";\")\n",
    "diagnosis.columns = [\"ID\", \"a1_Temp\",\"a2_Naus\", \"a3_Lumb\", \"a4_Uri\", \"a5_Mic\", \n",
    "\"a6_Ur\", \"d1_Infl\", \"d2_Nefr\"]\n",
    "diagnosis.head()"
   ]
  },
  {
   "cell_type": "markdown",
   "metadata": {},
   "source": [
    "## i. CREAR MODELO D1 INFLAMACION"
   ]
  },
  {
   "cell_type": "code",
   "execution_count": 3,
   "metadata": {},
   "outputs": [],
   "source": [
    "# Separate the TARGET VARIABLE, D1, from the FEATURES COLUMNS\n",
    "target = \"d1_Infl\"\n",
    "features = list(diagnosis.columns)\n",
    "features.remove(\"d1_Infl\")\n",
    "\n",
    "\n",
    "# Eliminate the identifiers\n",
    "features.remove(\"ID\")"
   ]
  },
  {
   "cell_type": "code",
   "execution_count": 4,
   "metadata": {},
   "outputs": [
    {
     "name": "stdout",
     "output_type": "stream",
     "text": [
      "a1_Temp : 44\n",
      "a2_Naus : 2\n",
      "a3_Lumb : 2\n",
      "a4_Uri : 2\n",
      "a5_Mic : 2\n",
      "a6_Ur : 2\n",
      "d2_Nefr : 2\n"
     ]
    }
   ],
   "source": [
    "# List of available variables to be used in our model:\n",
    "for var in features:\n",
    "    print(var , ':' , len(set(diagnosis[var])))"
   ]
  },
  {
   "cell_type": "markdown",
   "metadata": {},
   "source": [
    "### STEP 1: ANALYZE & TRANSFORM DISCRETE VARIABLES "
   ]
  },
  {
   "cell_type": "code",
   "execution_count": 5,
   "metadata": {},
   "outputs": [
    {
     "data": {
      "text/html": [
       "<div>\n",
       "<style scoped>\n",
       "    .dataframe tbody tr th:only-of-type {\n",
       "        vertical-align: middle;\n",
       "    }\n",
       "\n",
       "    .dataframe tbody tr th {\n",
       "        vertical-align: top;\n",
       "    }\n",
       "\n",
       "    .dataframe thead th {\n",
       "        text-align: right;\n",
       "    }\n",
       "</style>\n",
       "<table border=\"1\" class=\"dataframe\">\n",
       "  <thead>\n",
       "    <tr style=\"text-align: right;\">\n",
       "      <th></th>\n",
       "      <th>a1_Temp</th>\n",
       "      <th>a2_Naus</th>\n",
       "      <th>a3_Lumb</th>\n",
       "      <th>a4_Uri</th>\n",
       "      <th>a5_Mic</th>\n",
       "      <th>a6_Ur</th>\n",
       "      <th>d2_Nefr</th>\n",
       "    </tr>\n",
       "  </thead>\n",
       "  <tbody>\n",
       "    <tr>\n",
       "      <th>0</th>\n",
       "      <td>35.5</td>\n",
       "      <td>0</td>\n",
       "      <td>1</td>\n",
       "      <td>0</td>\n",
       "      <td>0</td>\n",
       "      <td>0</td>\n",
       "      <td>0</td>\n",
       "    </tr>\n",
       "    <tr>\n",
       "      <th>1</th>\n",
       "      <td>35.9</td>\n",
       "      <td>0</td>\n",
       "      <td>0</td>\n",
       "      <td>1</td>\n",
       "      <td>1</td>\n",
       "      <td>1</td>\n",
       "      <td>0</td>\n",
       "    </tr>\n",
       "    <tr>\n",
       "      <th>2</th>\n",
       "      <td>35.9</td>\n",
       "      <td>0</td>\n",
       "      <td>1</td>\n",
       "      <td>0</td>\n",
       "      <td>0</td>\n",
       "      <td>0</td>\n",
       "      <td>0</td>\n",
       "    </tr>\n",
       "    <tr>\n",
       "      <th>3</th>\n",
       "      <td>36.0</td>\n",
       "      <td>0</td>\n",
       "      <td>0</td>\n",
       "      <td>1</td>\n",
       "      <td>1</td>\n",
       "      <td>1</td>\n",
       "      <td>0</td>\n",
       "    </tr>\n",
       "    <tr>\n",
       "      <th>4</th>\n",
       "      <td>36.0</td>\n",
       "      <td>0</td>\n",
       "      <td>1</td>\n",
       "      <td>0</td>\n",
       "      <td>0</td>\n",
       "      <td>0</td>\n",
       "      <td>0</td>\n",
       "    </tr>\n",
       "  </tbody>\n",
       "</table>\n",
       "</div>"
      ],
      "text/plain": [
       "   a1_Temp  a2_Naus  a3_Lumb  a4_Uri  a5_Mic  a6_Ur  d2_Nefr\n",
       "0     35.5        0        1       0       0      0        0\n",
       "1     35.9        0        0       1       1      1        0\n",
       "2     35.9        0        1       0       0      0        0\n",
       "3     36.0        0        0       1       1      1        0\n",
       "4     36.0        0        1       0       0      0        0"
      ]
     },
     "execution_count": 5,
     "metadata": {},
     "output_type": "execute_result"
    }
   ],
   "source": [
    "# Analyze the DISCRETE VARIABLES\n",
    "diagnosis[features].head()\n",
    "\n",
    "# We will analyze which discrete variables are the most predictive\n",
    "# They are all discrete except for A1, temperature"
   ]
  },
  {
   "cell_type": "code",
   "execution_count": 6,
   "metadata": {},
   "outputs": [
    {
     "name": "stdout",
     "output_type": "stream",
     "text": [
      "Frequency Table for: Disease D1 + Variable a2_Naus\n",
      "a2_Naus   0   1\n",
      "d1_Infl        \n",
      "0        51  10\n",
      "1        40  19\n",
      "\n",
      "Frequency Table for: Disease D1 + Variable a3_Lumb\n",
      "a3_Lumb   0   1\n",
      "d1_Infl        \n",
      "0        10  51\n",
      "1        40  19\n",
      "\n",
      "Frequency Table for: Disease D1 + Variable a4_Uri\n",
      "a4_Uri    0   1\n",
      "d1_Infl        \n",
      "0        40  21\n",
      "1         0  59\n",
      "\n",
      "Frequency Table for: Disease D1 + Variable a5_Mic\n",
      "a5_Mic    0   1\n",
      "d1_Infl        \n",
      "0        51  10\n",
      "1        10  49\n",
      "\n",
      "Frequency Table for: Disease D1 + Variable a6_Ur\n",
      "a6_Ur     0   1\n",
      "d1_Infl        \n",
      "0        40  21\n",
      "1        30  29\n",
      "\n",
      "Frequency Table for: Disease D1 + Variable d2_Nefr\n",
      "d2_Nefr   0   1\n",
      "d1_Infl        \n",
      "0        30  31\n",
      "1        40  19\n",
      "\n"
     ]
    }
   ],
   "source": [
    "# Create a Table of Frequencies\n",
    "    # ... for each of the discrete variables.\n",
    "    # determine if they will cause problems.\n",
    "for var in [\"a2_Naus\", \"a3_Lumb\", \"a4_Uri\", \"a5_Mic\", \n",
    "\"a6_Ur\", \"d2_Nefr\"]:\n",
    "    print(\"Frequency Table for: Disease D1 + Variable\", var)\n",
    "    print(pd.crosstab(diagnosis[target], diagnosis[var]))\n",
    "    print()"
   ]
  },
  {
   "cell_type": "markdown",
   "metadata": {},
   "source": [
    "#### ~ OBSERVE THE IMPORTANCE OF EACH DISCRETE VARIABLE ~ \n",
    "\n",
    "Relationship between Disease D1 and the variable:\n",
    "\n",
    "- A2: You can have the disease without symptoms of nausea\n",
    "- A3: You can have the disease without symptoms of back pain\n",
    "- A4: You cannot have the disease without urination symptoms\n",
    "- A5: To have the disease, you most likely have micturition pains\n",
    "- A6: Not a strong determining factor\n",
    "- D2: Chances of getting D1 are slightly higher than chances of D2. 19/120 have both at the same time."
   ]
  },
  {
   "cell_type": "markdown",
   "metadata": {},
   "source": [
    "#### ~ CALCULATE THE IMPORTANCE OF EACH DISCRETE VARIABLE ~\n",
    "\n",
    "Since the discrete variables in diagnosis.csv are binary, it is easy to calculate the WoE and correlations with Disease D1."
   ]
  },
  {
   "cell_type": "code",
   "execution_count": 7,
   "metadata": {},
   "outputs": [
    {
     "name": "stdout",
     "output_type": "stream",
     "text": [
      "\n",
      " Testing the Weight of Evidence for the Variable a2_Naus :\n",
      "  Weight of 0 [ 91 /120 observations] is 0.2429461786103894\n",
      "  Weight of 1 [ 29 /120 observations] is -0.6418538861723948\n",
      "None\n",
      "\n",
      "\n",
      " Testing the Weight of Evidence for the Variable a3_Lumb :\n",
      "  Weight of 0 [ 50 /120 observations] is -1.3862943611198906\n",
      "  Weight of 1 [ 70 /120 observations] is 0.9873866535578852\n",
      "None\n",
      "\n",
      "\n",
      " Testing the Weight of Evidence for the Variable a4_Uri :\n",
      "  Weight of 0 [ 40 /120 observations] is infinite\n",
      "  Weight of 1 [ 80 /120 observations] is -1.0330150061822965\n",
      "None\n",
      "\n",
      "\n",
      " Testing the Weight of Evidence for the Variable a5_Mic :\n",
      "  Weight of 0 [ 61 /120 observations] is 1.62924053973028\n",
      "  Weight of 1 [ 59 /120 observations] is -1.589235205116581\n",
      "None\n",
      "\n",
      "\n",
      " Testing the Weight of Evidence for the Variable a6_Ur :\n",
      "  Weight of 0 [ 70 /120 observations] is 0.28768207245178085\n",
      "  Weight of 1 [ 50 /120 observations] is -0.322773392263051\n",
      "None\n",
      "\n",
      "\n",
      " Testing the Weight of Evidence for the Variable d2_Nefr :\n",
      "  Weight of 0 [ 70 /120 observations] is -0.2876820724517809\n",
      "  Weight of 1 [ 50 /120 observations] is 0.4895482253187058\n",
      "None\n",
      "\n"
     ]
    }
   ],
   "source": [
    "# Calculating Weight of Evidence for Each Variable\n",
    "\n",
    "def get_WoE(data, var, target):\n",
    "    crosstab = pd.crosstab(data[target], data[var])\n",
    "    \n",
    "    print(\"\\n\", \"Testing the Weight of Evidence for the Variable\", var, \":\")\n",
    "    \n",
    "    for col in crosstab.columns:\n",
    "        if crosstab[col][1] == 0:\n",
    "            print(\"  Weight of\", col, \"[\", sum(crosstab[col]), \"/120 observations] is infinite\")\n",
    "        else:\n",
    "            print(\"  Weight of\", col, \"[\", sum(crosstab[col]), \"/120 observations] is\", np.log(float(crosstab[col][0]) / float(crosstab[col][1])))\n",
    "\n",
    "for var in [\"a2_Naus\", \"a3_Lumb\", \"a4_Uri\", \"a5_Mic\", \"a6_Ur\", \"d2_Nefr\"]:\n",
    "    print(get_WoE(diagnosis, var, target))\n",
    "    print()           \n",
    "\n",
    "#Strongest weight of evidence: a3_Lumb, a4_Uri, a5_Mic"
   ]
  },
  {
   "cell_type": "code",
   "execution_count": 8,
   "metadata": {},
   "outputs": [
    {
     "name": "stdout",
     "output_type": "stream",
     "text": [
      "Values correlated to inflammation, D1:  \n",
      " ID        -0.243251\n",
      "a1_Temp   -0.236718\n",
      "a2_Naus    0.184630\n",
      "a3_Lumb   -0.521251\n",
      "a4_Uri     0.695418\n",
      "a5_Mic     0.666574\n",
      "a6_Ur      0.149331\n",
      "d1_Infl    1.000000\n",
      "d2_Nefr   -0.188777\n",
      "Name: d1_Infl, dtype: float64 \n",
      "\n",
      "Values correlated to nefritis, D2:  \n",
      " ID         0.713408\n",
      "a1_Temp    0.737055\n",
      "a2_Naus    0.667947\n",
      "a3_Lumb    0.714286\n",
      "a4_Uri     0.239046\n",
      "a5_Mic     0.149331\n",
      "a6_Ur      0.314286\n",
      "d1_Infl   -0.188777\n",
      "d2_Nefr    1.000000\n",
      "Name: d2_Nefr, dtype: float64 \n",
      "\n"
     ]
    }
   ],
   "source": [
    "# Calculating Correlation for each Variable\n",
    "\n",
    "print(\"Values correlated to inflammation, D1: \", \"\\n\",  diagnosis.corr()['d1_Infl'], \"\\n\")\n",
    "#Strongest correlating factors: a4, a5\n",
    "\n",
    "print(\"Values correlated to nefritis, D2: \", \"\\n\",  diagnosis.corr()['d2_Nefr'], \"\\n\")\n",
    "#Strongest correlating factors: a1, a3"
   ]
  },
  {
   "cell_type": "code",
   "execution_count": 9,
   "metadata": {},
   "outputs": [
    {
     "name": "stdout",
     "output_type": "stream",
     "text": [
      "a1_Temp\n",
      "a2_Naus\n",
      "a3_Lumb\n",
      "a4_Uri\n",
      "a5_Mic\n",
      "a6_Ur\n",
      "d2_Nefr\n"
     ]
    }
   ],
   "source": [
    "# Listado de variables disponibles para hacer un modelo.\n",
    "for var in features:\n",
    "    print(var)"
   ]
  },
  {
   "cell_type": "markdown",
   "metadata": {},
   "source": [
    "### STEP 2: ANALYZE & TRANSFORM CONTINUOUS VARIABLES "
   ]
  },
  {
   "cell_type": "markdown",
   "metadata": {},
   "source": [
    "#### ~ CATEGORIZE THE CONTINUOUS VARIABLE ~\n",
    "\n",
    "The only remaining variable to calculate is A1, temperature."
   ]
  },
  {
   "cell_type": "markdown",
   "metadata": {},
   "source": [
    "#### Patient Temperature WITHOUT Disease:"
   ]
  },
  {
   "cell_type": "code",
   "execution_count": 10,
   "metadata": {},
   "outputs": [
    {
     "data": {
      "text/plain": [
       "<matplotlib.axes._subplots.AxesSubplot at 0x2ca870836a0>"
      ]
     },
     "execution_count": 10,
     "metadata": {},
     "output_type": "execute_result"
    },
    {
     "data": {
      "image/png": "[encoded data removed]",
      "text/plain": [
       "<matplotlib.figure.Figure at 0x2ca8714bbe0>"
      ]
     },
     "metadata": {},
     "output_type": "display_data"
    }
   ],
   "source": [
    "diagnosis['a1_Temp'][diagnosis['d1_Infl']==0].hist(bins=20)"
   ]
  },
  {
   "cell_type": "markdown",
   "metadata": {},
   "source": [
    "#### Patient Temperature WITH Disease\n",
    "\n",
    "You can see that there is a higher frequency of temperature below 38 degrees:"
   ]
  },
  {
   "cell_type": "code",
   "execution_count": 11,
   "metadata": {},
   "outputs": [
    {
     "data": {
      "text/plain": [
       "<matplotlib.axes._subplots.AxesSubplot at 0x2ca87081198>"
      ]
     },
     "execution_count": 11,
     "metadata": {},
     "output_type": "execute_result"
    },
    {
     "data": {
      "image/png": "[encoded data removed]",
      "text/plain": [
       "<matplotlib.figure.Figure at 0x2ca86bfb4e0>"
      ]
     },
     "metadata": {},
     "output_type": "display_data"
    }
   ],
   "source": [
    "diagnosis['a1_Temp'][diagnosis['d1_Infl']==1].hist(bins=20)"
   ]
  },
  {
   "cell_type": "markdown",
   "metadata": {},
   "source": [
    "#### ~ DIVIDE TEMPERATURE INTO DISTINCT CATEGORIES, WEIGH THE IMPORTANCE ~\n",
    "\n",
    "\n",
    "\n",
    "#### Patterns are visible across certain temperature ranges. Use this information to categorize the variables.\n",
    "- lambda x: 'n0' \n",
    "- if x < 37 else 'n1' \n",
    "- if x < 38.2 else 'n2' \n",
    "- if x < 39.8 else 'n3'\n",
    "- if x < 42 else 'n4'\n"
   ]
  },
  {
   "cell_type": "code",
   "execution_count": 12,
   "metadata": {},
   "outputs": [
    {
     "name": "stdout",
     "output_type": "stream",
     "text": [
      "\n",
      " Testing the Weight of Evidence for the Variable a1_Temp_grp :\n",
      "  Weight of n0 [ 20 /120 observations] is 0.0\n",
      "  Weight of n1 [ 43 /120 observations] is -0.8362480242006186\n",
      "  Weight of n2 [ 7 /120 observations] is infinite\n",
      "  Weight of n3 [ 50 /120 observations] is 0.4895482253187058\n"
     ]
    }
   ],
   "source": [
    "diagnosis.loc[:, 'a1_Temp_grp'] = diagnosis['a1_Temp'].map(lambda x: 'n0' if x < 37 else 'n1' if x < 38.2 else 'n2' if x < 39.8 else 'n3' if x < 42 else 'n4')\n",
    "get_WoE(diagnosis, 'a1_Temp_grp', target) "
   ]
  },
  {
   "cell_type": "code",
   "execution_count": 13,
   "metadata": {},
   "outputs": [],
   "source": [
    "# Now that the transformation has been done, eliminate the previous variable and add the new group to the list.\n",
    "features.remove('a1_Temp')\n",
    "features.append(\"a1_Temp_grp\")"
   ]
  },
  {
   "cell_type": "code",
   "execution_count": 14,
   "metadata": {},
   "outputs": [
    {
     "name": "stdout",
     "output_type": "stream",
     "text": [
      "a2_Naus\n",
      "a3_Lumb\n",
      "a4_Uri\n",
      "a5_Mic\n",
      "a6_Ur\n",
      "d2_Nefr\n",
      "a1_Temp_grp\n"
     ]
    }
   ],
   "source": [
    "# Listado de variables disponibles para hacer un modelo.\n",
    "for var in features:\n",
    "    print(var)"
   ]
  },
  {
   "cell_type": "markdown",
   "metadata": {},
   "source": [
    "### STEP 3: CREATE THE ACTUAL MODEL\n",
    "\n",
    "We have transformed the variables already. \n",
    "\n",
    "Next, we need to: \n",
    "\n",
    "- Create the dummy variables, \n",
    "- eliminate the collinear variables and \n",
    "- separate data into training and test sets."
   ]
  },
  {
   "cell_type": "markdown",
   "metadata": {},
   "source": [
    "#### ~ CREATE THE DUMMY VARIABLES ~"
   ]
  },
  {
   "cell_type": "code",
   "execution_count": 15,
   "metadata": {},
   "outputs": [],
   "source": [
    "# CREATE THE DUMMY VARIABLES\n",
    "data_model = pd.concat((pd.get_dummies(diagnosis['a1_Temp_grp'], prefix = 'a1'),\n",
    "                        pd.get_dummies(diagnosis['a2_Naus'], prefix = 'a2'),\n",
    "                        pd.get_dummies(diagnosis['a3_Lumb'], prefix = 'a3'),\n",
    "                        pd.get_dummies(diagnosis['a4_Uri'], prefix = 'a4'),\n",
    "                        pd.get_dummies(diagnosis['a5_Mic'], prefix = 'a5'),\n",
    "                        pd.get_dummies(diagnosis['a6_Ur'], prefix = 'a6'),\n",
    "                        pd.get_dummies(diagnosis['d2_Nefr'], prefix = 'd2')), axis = 1)\n"
   ]
  },
  {
   "cell_type": "markdown",
   "metadata": {},
   "source": [
    "#### ~ ELIMINATE THE COLLINEAR VARIABLES ~"
   ]
  },
  {
   "cell_type": "code",
   "execution_count": 16,
   "metadata": {},
   "outputs": [],
   "source": [
    "# ELIMINATE COLLINEAR VARIABLES\n",
    "\n",
    "from sklearn.linear_model import LinearRegression\n",
    "def calculateVIF(data):\n",
    "    features = list(data.columns)\n",
    "    num_features = len(features)\n",
    "    \n",
    "    model = LinearRegression()\n",
    "    \n",
    "    result = pd.DataFrame(index = ['VIF'], columns = features)\n",
    "    result = result.fillna(0)\n",
    "    \n",
    "    for ite in range(num_features):\n",
    "        x_features = features[:]\n",
    "        y_featue = features[ite]\n",
    "        x_features.remove(y_featue)\n",
    "        \n",
    "        x = data[x_features]\n",
    "        y = data[y_featue]\n",
    "        \n",
    "        model.fit(data[x_features], data[y_featue])\n",
    "        \n",
    "        result[y_featue] = 1/(1 - model.score(data[x_features], data[y_featue]))\n",
    "    \n",
    "    return result\n",
    "\n",
    "def selectDataUsingVIF(data, max_VIF = 5):\n",
    "    result = data.copy(deep = True)\n",
    "    \n",
    "    VIF = calculateVIF(result)\n",
    "    \n",
    "    while VIF.as_matrix().max() > max_VIF:\n",
    "        col_max = np.where(VIF == VIF.as_matrix().max())[1][0]\n",
    "        features = list(result.columns)\n",
    "        features.remove(features[col_max])\n",
    "        result = result[features]\n",
    "        \n",
    "        VIF = calculateVIF(result)\n",
    "        \n",
    "    return result"
   ]
  },
  {
   "cell_type": "code",
   "execution_count": 17,
   "metadata": {},
   "outputs": [
    {
     "name": "stderr",
     "output_type": "stream",
     "text": [
      "C:\\ProgramData\\Anaconda3\\lib\\site-packages\\ipykernel_launcher.py:23: RuntimeWarning: divide by zero encountered in double_scalars\n"
     ]
    },
    {
     "data": {
      "text/html": [
       "<div>\n",
       "<style scoped>\n",
       "    .dataframe tbody tr th:only-of-type {\n",
       "        vertical-align: middle;\n",
       "    }\n",
       "\n",
       "    .dataframe tbody tr th {\n",
       "        vertical-align: top;\n",
       "    }\n",
       "\n",
       "    .dataframe thead th {\n",
       "        text-align: right;\n",
       "    }\n",
       "</style>\n",
       "<table border=\"1\" class=\"dataframe\">\n",
       "  <thead>\n",
       "    <tr style=\"text-align: right;\">\n",
       "      <th></th>\n",
       "      <th>a1_n0</th>\n",
       "      <th>a1_n1</th>\n",
       "      <th>a1_n2</th>\n",
       "      <th>a1_n3</th>\n",
       "      <th>a2_0</th>\n",
       "      <th>a2_1</th>\n",
       "      <th>a3_0</th>\n",
       "      <th>a3_1</th>\n",
       "      <th>a4_0</th>\n",
       "      <th>a4_1</th>\n",
       "      <th>a5_0</th>\n",
       "      <th>a5_1</th>\n",
       "      <th>a6_0</th>\n",
       "      <th>a6_1</th>\n",
       "      <th>d2_0</th>\n",
       "      <th>d2_1</th>\n",
       "    </tr>\n",
       "  </thead>\n",
       "  <tbody>\n",
       "    <tr>\n",
       "      <th>VIF</th>\n",
       "      <td>inf</td>\n",
       "      <td>inf</td>\n",
       "      <td>inf</td>\n",
       "      <td>inf</td>\n",
       "      <td>inf</td>\n",
       "      <td>inf</td>\n",
       "      <td>inf</td>\n",
       "      <td>inf</td>\n",
       "      <td>inf</td>\n",
       "      <td>inf</td>\n",
       "      <td>inf</td>\n",
       "      <td>inf</td>\n",
       "      <td>inf</td>\n",
       "      <td>inf</td>\n",
       "      <td>inf</td>\n",
       "      <td>inf</td>\n",
       "    </tr>\n",
       "  </tbody>\n",
       "</table>\n",
       "</div>"
      ],
      "text/plain": [
       "     a1_n0  a1_n1  a1_n2  a1_n3  a2_0  a2_1  a3_0  a3_1  a4_0  a4_1  a5_0  \\\n",
       "VIF    inf    inf    inf    inf   inf   inf   inf   inf   inf   inf   inf   \n",
       "\n",
       "     a5_1  a6_0  a6_1  d2_0  d2_1  \n",
       "VIF   inf   inf   inf   inf   inf  "
      ]
     },
     "execution_count": 17,
     "metadata": {},
     "output_type": "execute_result"
    }
   ],
   "source": [
    "# Too many infinites!!! Not all colinear variables have been eliminated.\n",
    "# We will pass them through the function selectDataUsingVIF in the next stage.\n",
    "calculateVIF(data_model)"
   ]
  },
  {
   "cell_type": "code",
   "execution_count": 18,
   "metadata": {},
   "outputs": [
    {
     "name": "stderr",
     "output_type": "stream",
     "text": [
      "C:\\ProgramData\\Anaconda3\\lib\\site-packages\\ipykernel_launcher.py:23: RuntimeWarning: divide by zero encountered in double_scalars\n"
     ]
    },
    {
     "data": {
      "text/html": [
       "<div>\n",
       "<style scoped>\n",
       "    .dataframe tbody tr th:only-of-type {\n",
       "        vertical-align: middle;\n",
       "    }\n",
       "\n",
       "    .dataframe tbody tr th {\n",
       "        vertical-align: top;\n",
       "    }\n",
       "\n",
       "    .dataframe thead th {\n",
       "        text-align: right;\n",
       "    }\n",
       "</style>\n",
       "<table border=\"1\" class=\"dataframe\">\n",
       "  <thead>\n",
       "    <tr style=\"text-align: right;\">\n",
       "      <th></th>\n",
       "      <th>a1_n1</th>\n",
       "      <th>a1_n2</th>\n",
       "      <th>a1_n3</th>\n",
       "      <th>a3_1</th>\n",
       "      <th>a4_1</th>\n",
       "      <th>a5_1</th>\n",
       "      <th>a6_1</th>\n",
       "    </tr>\n",
       "  </thead>\n",
       "  <tbody>\n",
       "    <tr>\n",
       "      <th>VIF</th>\n",
       "      <td>2.398578</td>\n",
       "      <td>1.59016</td>\n",
       "      <td>2.279761</td>\n",
       "      <td>1.4493</td>\n",
       "      <td>2.184235</td>\n",
       "      <td>1.338548</td>\n",
       "      <td>1.886937</td>\n",
       "    </tr>\n",
       "  </tbody>\n",
       "</table>\n",
       "</div>"
      ],
      "text/plain": [
       "        a1_n1    a1_n2     a1_n3    a3_1      a4_1      a5_1      a6_1\n",
       "VIF  2.398578  1.59016  2.279761  1.4493  2.184235  1.338548  1.886937"
      ]
     },
     "execution_count": 18,
     "metadata": {},
     "output_type": "execute_result"
    }
   ],
   "source": [
    "# None of the variables are over 5, or infinite. \n",
    "# (VIF measures when the variance of a regressive coefficient has increased to due to colineality.)\n",
    "# Collinear variables are therefore eliminated.\n",
    "\n",
    "model_vars = selectDataUsingVIF(data_model)\n",
    "calculateVIF(model_vars)"
   ]
  },
  {
   "cell_type": "markdown",
   "metadata": {},
   "source": [
    "#### ~ SEPARATE THE DATA INTO TRAINING AND TEST SETS ~"
   ]
  },
  {
   "cell_type": "code",
   "execution_count": 19,
   "metadata": {},
   "outputs": [
    {
     "name": "stderr",
     "output_type": "stream",
     "text": [
      "C:\\ProgramData\\Anaconda3\\lib\\site-packages\\sklearn\\cross_validation.py:41: DeprecationWarning: This module was deprecated in version 0.18 in favor of the model_selection module into which all the refactored classes and functions are moved. Also note that the interface of the new CV iterators are different from that of this module. This module will be removed in 0.20.\n",
      "  \"This module will be removed in 0.20.\", DeprecationWarning)\n"
     ]
    }
   ],
   "source": [
    "# Import the train_test_split model\n",
    "from sklearn.cross_validation import train_test_split\n",
    "\n",
    "# Separate the variables into training and test sets\n",
    "x_train, x_test, y_train, y_test = train_test_split(model_vars, diagnosis['d1_Infl'])"
   ]
  },
  {
   "cell_type": "code",
   "execution_count": 20,
   "metadata": {},
   "outputs": [],
   "source": [
    "# Import the accuracy_score, auc, confusion_matrix, f1_score, etc.\n",
    "from sklearn.metrics import accuracy_score, auc, confusion_matrix, f1_score, precision_score, recall_score, roc_curve\n",
    "\n",
    "# Start validating the model\n",
    "def metricas_modelos(y_true, y_pred):\n",
    "    from sklearn.metrics import accuracy_score, auc, confusion_matrix, f1_score, precision_score, recall_score, roc_curve\n",
    "\n",
    "    # Apply the confusion matrix function\n",
    "    confusion_matrix = confusion_matrix(y_true, y_pred)\n",
    "\n",
    "    print('\\n', \"CONFUSION MATRIX:\")\n",
    "    print(confusion_matrix)\n",
    "\n",
    "    print('\\n','ACCURACY SCORE:', \"\\n\", accuracy_score(y_true, y_pred))\n",
    "    print('\\n','PRECISION SCORE:', \"\\n\", precision_score(y_true, y_pred))\n",
    "    print('\\n','RECALL SCORE:', \"\\n\", recall_score(y_true, y_pred))\n",
    "    print('\\n','F1 SCORE:', \"\\n\", f1_score(y_true, y_pred))\n",
    "\n",
    "    false_positive_rate, recall, thresholds = roc_curve(y_true, y_pred)\n",
    "    roc_auc = auc(false_positive_rate, recall)\n",
    "\n",
    "    print('\\n', \"AUC GRAPH:\", \"\\n\", auc(false_positive_rate, recall))\n",
    "\n",
    "    plot(false_positive_rate, recall, 'b')\n",
    "    plot([0, 1], [0, 1], 'r--')\n",
    "    title('AUC = %0.2f' % roc_auc)"
   ]
  },
  {
   "cell_type": "code",
   "execution_count": 21,
   "metadata": {},
   "outputs": [],
   "source": [
    "# Import Logistic Regression\n",
    "from sklearn.linear_model.logistic import LogisticRegression\n",
    "\n",
    "# Instantiate the regressor\n",
    "model = LogisticRegression().fit(x_train, y_train)\n",
    "y_pred_train = model.predict(x_train)\n",
    "y_pred_test = model.predict(x_test)"
   ]
  },
  {
   "cell_type": "markdown",
   "metadata": {},
   "source": [
    "#### TRAINING DATA SET"
   ]
  },
  {
   "cell_type": "code",
   "execution_count": 22,
   "metadata": {},
   "outputs": [
    {
     "name": "stdout",
     "output_type": "stream",
     "text": [
      "\n",
      " CONFUSION MATRIX:\n",
      "[[42  0]\n",
      " [ 0 48]]\n",
      "\n",
      " ACCURACY SCORE: \n",
      " 1.0\n",
      "\n",
      " PRECISION SCORE: \n",
      " 1.0\n",
      "\n",
      " RECALL SCORE: \n",
      " 1.0\n",
      "\n",
      " F1 SCORE: \n",
      " 1.0\n",
      "\n",
      " AUC GRAPH: \n",
      " 1.0\n"
     ]
    },
    {
     "data": {
      "image/png": "[encoded data removed]",
      "text/plain": [
       "<matplotlib.figure.Figure at 0x2ca87357e48>"
      ]
     },
     "metadata": {},
     "output_type": "display_data"
    }
   ],
   "source": [
    "# Training Set\n",
    "metricas_modelos(y_train, y_pred_train)"
   ]
  },
  {
   "cell_type": "markdown",
   "metadata": {},
   "source": [
    "#### TESTING DATA SET"
   ]
  },
  {
   "cell_type": "code",
   "execution_count": 23,
   "metadata": {},
   "outputs": [
    {
     "name": "stdout",
     "output_type": "stream",
     "text": [
      "\n",
      " CONFUSION MATRIX:\n",
      "[[19  0]\n",
      " [ 0 11]]\n",
      "\n",
      " ACCURACY SCORE: \n",
      " 1.0\n",
      "\n",
      " PRECISION SCORE: \n",
      " 1.0\n",
      "\n",
      " RECALL SCORE: \n",
      " 1.0\n",
      "\n",
      " F1 SCORE: \n",
      " 1.0\n",
      "\n",
      " AUC GRAPH: \n",
      " 1.0\n"
     ]
    },
    {
     "data": {
      "image/png": "[encoded data removed]",
      "text/plain": [
       "<matplotlib.figure.Figure at 0x2ca894207f0>"
      ]
     },
     "metadata": {},
     "output_type": "display_data"
    }
   ],
   "source": [
    "# Testing Set\n",
    "metricas_modelos(y_test, y_pred_test)"
   ]
  },
  {
   "cell_type": "markdown",
   "metadata": {},
   "source": [
    "### B) Evaluar el rendimiento de los modelos.\n",
    "\n",
    "#### MAKE A PREDICTION"
   ]
  },
  {
   "cell_type": "code",
   "execution_count": 24,
   "metadata": {},
   "outputs": [],
   "source": [
    "# 1 MEANS = PATIENT TESTS POSITIVE FOR THE DISEASE D1\n",
    "# 0 MEANS = PATIENT TESTS NEGATIVE FOR DISEASE D1\n",
    "def diseased_or_not(prediction):\n",
    "    if final_diagnosis == [1]:\n",
    "        print(\"I have some terrible news for you... You have a urinary bladder infection. Sucks to be you!\")\n",
    "    else: \n",
    "        print(\"Congrats! You're fine. Now go party!\")"
   ]
  },
  {
   "cell_type": "code",
   "execution_count": 25,
   "metadata": {},
   "outputs": [
    {
     "data": {
      "text/html": [
       "<div>\n",
       "<style scoped>\n",
       "    .dataframe tbody tr th:only-of-type {\n",
       "        vertical-align: middle;\n",
       "    }\n",
       "\n",
       "    .dataframe tbody tr th {\n",
       "        vertical-align: top;\n",
       "    }\n",
       "\n",
       "    .dataframe thead th {\n",
       "        text-align: right;\n",
       "    }\n",
       "</style>\n",
       "<table border=\"1\" class=\"dataframe\">\n",
       "  <thead>\n",
       "    <tr style=\"text-align: right;\">\n",
       "      <th></th>\n",
       "      <th>a1_n1</th>\n",
       "      <th>a1_n2</th>\n",
       "      <th>a1_n3</th>\n",
       "      <th>a3_1</th>\n",
       "      <th>a4_1</th>\n",
       "      <th>a5_1</th>\n",
       "      <th>a6_1</th>\n",
       "    </tr>\n",
       "  </thead>\n",
       "  <tbody>\n",
       "    <tr>\n",
       "      <th>86</th>\n",
       "      <td>0</td>\n",
       "      <td>0</td>\n",
       "      <td>1</td>\n",
       "      <td>0</td>\n",
       "      <td>0</td>\n",
       "      <td>0</td>\n",
       "      <td>0</td>\n",
       "    </tr>\n",
       "    <tr>\n",
       "      <th>119</th>\n",
       "      <td>0</td>\n",
       "      <td>0</td>\n",
       "      <td>1</td>\n",
       "      <td>1</td>\n",
       "      <td>1</td>\n",
       "      <td>0</td>\n",
       "      <td>1</td>\n",
       "    </tr>\n",
       "    <tr>\n",
       "      <th>17</th>\n",
       "      <td>0</td>\n",
       "      <td>0</td>\n",
       "      <td>0</td>\n",
       "      <td>0</td>\n",
       "      <td>1</td>\n",
       "      <td>1</td>\n",
       "      <td>1</td>\n",
       "    </tr>\n",
       "    <tr>\n",
       "      <th>105</th>\n",
       "      <td>0</td>\n",
       "      <td>0</td>\n",
       "      <td>1</td>\n",
       "      <td>1</td>\n",
       "      <td>1</td>\n",
       "      <td>1</td>\n",
       "      <td>1</td>\n",
       "    </tr>\n",
       "    <tr>\n",
       "      <th>36</th>\n",
       "      <td>1</td>\n",
       "      <td>0</td>\n",
       "      <td>0</td>\n",
       "      <td>0</td>\n",
       "      <td>1</td>\n",
       "      <td>0</td>\n",
       "      <td>0</td>\n",
       "    </tr>\n",
       "  </tbody>\n",
       "</table>\n",
       "</div>"
      ],
      "text/plain": [
       "     a1_n1  a1_n2  a1_n3  a3_1  a4_1  a5_1  a6_1\n",
       "86       0      0      1     0     0     0     0\n",
       "119      0      0      1     1     1     0     1\n",
       "17       0      0      0     0     1     1     1\n",
       "105      0      0      1     1     1     1     1\n",
       "36       1      0      0     0     1     0     0"
      ]
     },
     "execution_count": 25,
     "metadata": {},
     "output_type": "execute_result"
    }
   ],
   "source": [
    "#  observe the training data set:\n",
    "x_train.head()"
   ]
  },
  {
   "cell_type": "code",
   "execution_count": 26,
   "metadata": {},
   "outputs": [],
   "source": [
    "# Fill in values for the predictive data set:\n",
    "# put 1 for symptoms: a1_n3 (fever 38+), a3, a4, a5, a6\n",
    "new_prediction =  [0,0,1,1,1,1,1]"
   ]
  },
  {
   "cell_type": "code",
   "execution_count": 27,
   "metadata": {},
   "outputs": [
    {
     "name": "stdout",
     "output_type": "stream",
     "text": [
      "I have some terrible news for you... You have a urinary bladder infection. Sucks to be you!\n"
     ]
    }
   ],
   "source": [
    "# Check what our model predicts!\n",
    "final_diagnosis = model.predict([new_prediction])\n",
    "diseased_or_not(final_diagnosis)"
   ]
  },
  {
   "cell_type": "markdown",
   "metadata": {},
   "source": [
    "## ii. CREAR MODELO D2 NEFRITIS"
   ]
  },
  {
   "cell_type": "code",
   "execution_count": 28,
   "metadata": {},
   "outputs": [],
   "source": [
    "# Separate the TARGET VARIABLE, D1, from the FEATURES COLUMNS\n",
    "target = \"d2_Nefr\"\n",
    "features = list(diagnosis.columns)\n",
    "features.remove(\"d2_Nefr\")\n",
    "\n",
    "\n",
    "# Eliminate the identifiers\n",
    "features.remove(\"ID\")"
   ]
  },
  {
   "cell_type": "code",
   "execution_count": 29,
   "metadata": {},
   "outputs": [
    {
     "name": "stdout",
     "output_type": "stream",
     "text": [
      "a1_Temp : 44\n",
      "a2_Naus : 2\n",
      "a3_Lumb : 2\n",
      "a4_Uri : 2\n",
      "a5_Mic : 2\n",
      "a6_Ur : 2\n",
      "d1_Infl : 2\n",
      "a1_Temp_grp : 4\n"
     ]
    }
   ],
   "source": [
    "# List of available variables to be used in our model:\n",
    "for var in features:\n",
    "    print(var , ':' , len(set(diagnosis[var])))"
   ]
  },
  {
   "cell_type": "markdown",
   "metadata": {},
   "source": [
    "### STEP 1: ANALYZE & TRANSFORM DISCRETE VARIABLES "
   ]
  },
  {
   "cell_type": "code",
   "execution_count": 30,
   "metadata": {},
   "outputs": [
    {
     "data": {
      "text/html": [
       "<div>\n",
       "<style scoped>\n",
       "    .dataframe tbody tr th:only-of-type {\n",
       "        vertical-align: middle;\n",
       "    }\n",
       "\n",
       "    .dataframe tbody tr th {\n",
       "        vertical-align: top;\n",
       "    }\n",
       "\n",
       "    .dataframe thead th {\n",
       "        text-align: right;\n",
       "    }\n",
       "</style>\n",
       "<table border=\"1\" class=\"dataframe\">\n",
       "  <thead>\n",
       "    <tr style=\"text-align: right;\">\n",
       "      <th></th>\n",
       "      <th>a1_Temp</th>\n",
       "      <th>a2_Naus</th>\n",
       "      <th>a3_Lumb</th>\n",
       "      <th>a4_Uri</th>\n",
       "      <th>a5_Mic</th>\n",
       "      <th>a6_Ur</th>\n",
       "      <th>d1_Infl</th>\n",
       "      <th>a1_Temp_grp</th>\n",
       "    </tr>\n",
       "  </thead>\n",
       "  <tbody>\n",
       "    <tr>\n",
       "      <th>0</th>\n",
       "      <td>35.5</td>\n",
       "      <td>0</td>\n",
       "      <td>1</td>\n",
       "      <td>0</td>\n",
       "      <td>0</td>\n",
       "      <td>0</td>\n",
       "      <td>0</td>\n",
       "      <td>n0</td>\n",
       "    </tr>\n",
       "    <tr>\n",
       "      <th>1</th>\n",
       "      <td>35.9</td>\n",
       "      <td>0</td>\n",
       "      <td>0</td>\n",
       "      <td>1</td>\n",
       "      <td>1</td>\n",
       "      <td>1</td>\n",
       "      <td>1</td>\n",
       "      <td>n0</td>\n",
       "    </tr>\n",
       "    <tr>\n",
       "      <th>2</th>\n",
       "      <td>35.9</td>\n",
       "      <td>0</td>\n",
       "      <td>1</td>\n",
       "      <td>0</td>\n",
       "      <td>0</td>\n",
       "      <td>0</td>\n",
       "      <td>0</td>\n",
       "      <td>n0</td>\n",
       "    </tr>\n",
       "    <tr>\n",
       "      <th>3</th>\n",
       "      <td>36.0</td>\n",
       "      <td>0</td>\n",
       "      <td>0</td>\n",
       "      <td>1</td>\n",
       "      <td>1</td>\n",
       "      <td>1</td>\n",
       "      <td>1</td>\n",
       "      <td>n0</td>\n",
       "    </tr>\n",
       "    <tr>\n",
       "      <th>4</th>\n",
       "      <td>36.0</td>\n",
       "      <td>0</td>\n",
       "      <td>1</td>\n",
       "      <td>0</td>\n",
       "      <td>0</td>\n",
       "      <td>0</td>\n",
       "      <td>0</td>\n",
       "      <td>n0</td>\n",
       "    </tr>\n",
       "  </tbody>\n",
       "</table>\n",
       "</div>"
      ],
      "text/plain": [
       "   a1_Temp  a2_Naus  a3_Lumb  a4_Uri  a5_Mic  a6_Ur  d1_Infl a1_Temp_grp\n",
       "0     35.5        0        1       0       0      0        0          n0\n",
       "1     35.9        0        0       1       1      1        1          n0\n",
       "2     35.9        0        1       0       0      0        0          n0\n",
       "3     36.0        0        0       1       1      1        1          n0\n",
       "4     36.0        0        1       0       0      0        0          n0"
      ]
     },
     "execution_count": 30,
     "metadata": {},
     "output_type": "execute_result"
    }
   ],
   "source": [
    "# Analyze the DISCRETE VARIABLES\n",
    "diagnosis[features].head()\n",
    "\n",
    "# We will analyze which discrete variables are the most predictive\n",
    "# They are all discrete except for A1, temperature"
   ]
  },
  {
   "cell_type": "code",
   "execution_count": 31,
   "metadata": {},
   "outputs": [
    {
     "name": "stdout",
     "output_type": "stream",
     "text": [
      "Frequency Table for: Disease D2 + Variable a2_Naus\n",
      "a2_Naus   0   1\n",
      "d2_Nefr        \n",
      "0        70   0\n",
      "1        21  29\n",
      "\n",
      "Frequency Table for: Disease D2 + Variable a3_Lumb\n",
      "a3_Lumb   0   1\n",
      "d2_Nefr        \n",
      "0        50  20\n",
      "1         0  50\n",
      "\n",
      "Frequency Table for: Disease D2 + Variable a4_Uri\n",
      "a4_Uri    0   1\n",
      "d2_Nefr        \n",
      "0        30  40\n",
      "1        10  40\n",
      "\n",
      "Frequency Table for: Disease D2 + Variable a5_Mic\n",
      "a5_Mic    0   1\n",
      "d2_Nefr        \n",
      "0        40  30\n",
      "1        21  29\n",
      "\n",
      "Frequency Table for: Disease D2 + Variable a6_Ur\n",
      "a6_Ur     0   1\n",
      "d2_Nefr        \n",
      "0        50  20\n",
      "1        20  30\n",
      "\n",
      "Frequency Table for: Disease D2 + Variable d1_Infl\n",
      "d1_Infl   0   1\n",
      "d2_Nefr        \n",
      "0        30  40\n",
      "1        31  19\n",
      "\n"
     ]
    }
   ],
   "source": [
    "# Create a Table of Frequencies\n",
    "    # ... for each of the discrete variables.\n",
    "    # determine if they will cause problems.\n",
    "for var in [\"a2_Naus\", \"a3_Lumb\", \"a4_Uri\", \"a5_Mic\", \n",
    "\"a6_Ur\", \"d1_Infl\"]:\n",
    "    print(\"Frequency Table for: Disease D2 + Variable\", var)\n",
    "    print(pd.crosstab(diagnosis[target], diagnosis[var]))\n",
    "    print()"
   ]
  },
  {
   "cell_type": "markdown",
   "metadata": {},
   "source": [
    "#### ~ OBSERVE THE IMPORTANCE OF EACH DISCRETE VARIABLE ~ \n",
    "\n",
    "Relationship between Disease D2 and the variable:\n",
    "\n",
    "- A2: If you don't have nausea, you don't have the disease\n",
    "- A3: If you have lumbar pain, you don't have the disease\n",
    "- A4: Urination symptoms are not a definite indicator\n",
    "- A5: Micturition pains are not a definite indicator\n",
    "- A6: Not a strong determining factor\n",
    "- D1: 1/3 of D1 patients also have D2. "
   ]
  },
  {
   "cell_type": "markdown",
   "metadata": {},
   "source": [
    "#### ~ CALCULATE THE IMPORTANCE OF EACH DISCRETE VARIABLE ~\n",
    "\n",
    "Since the discrete variables in diagnosis.csv are binary, it is easy to calculate the WoE and correlations with Disease D2."
   ]
  },
  {
   "cell_type": "code",
   "execution_count": 32,
   "metadata": {},
   "outputs": [
    {
     "name": "stdout",
     "output_type": "stream",
     "text": [
      "\n",
      " Testing the Weight of Evidence for the Variable a2_Naus :\n",
      "  Weight of 0 [ 91 /120 observations] is 1.2039728043259361\n",
      "  Weight of 1 [ 29 /120 observations] is -inf\n",
      "None\n",
      "\n",
      "\n",
      " Testing the Weight of Evidence for the Variable a3_Lumb :\n",
      "  Weight of 0 [ 50 /120 observations] is infinite\n",
      "  Weight of 1 [ 70 /120 observations] is -0.916290731874155\n",
      "None\n",
      "\n",
      "\n",
      " Testing the Weight of Evidence for the Variable a4_Uri :\n",
      "  Weight of 0 [ 40 /120 observations] is 1.0986122886681098\n",
      "  Weight of 1 [ 80 /120 observations] is 0.0\n",
      "None\n",
      "\n",
      "\n",
      " Testing the Weight of Evidence for the Variable a5_Mic :\n",
      "  Weight of 0 [ 61 /120 observations] is 0.6443570163905132\n",
      "  Weight of 1 [ 59 /120 observations] is 0.033901551675681416\n",
      "None\n",
      "\n",
      "\n",
      " Testing the Weight of Evidence for the Variable a6_Ur :\n",
      "  Weight of 0 [ 70 /120 observations] is 0.9162907318741551\n",
      "  Weight of 1 [ 50 /120 observations] is -0.40546510810816444\n",
      "None\n",
      "\n",
      "\n",
      " Testing the Weight of Evidence for the Variable d1_Infl :\n",
      "  Weight of 0 [ 61 /120 observations] is -0.03278982282299084\n",
      "  Weight of 1 [ 59 /120 observations] is 0.7444404749474958\n",
      "None\n",
      "\n"
     ]
    },
    {
     "name": "stderr",
     "output_type": "stream",
     "text": [
      "C:\\ProgramData\\Anaconda3\\lib\\site-packages\\ipykernel_launcher.py:10: RuntimeWarning: divide by zero encountered in log\n",
      "  # Remove the CWD from sys.path while we load stuff.\n"
     ]
    }
   ],
   "source": [
    "def get_WoE(data, var, target):\n",
    "    crosstab = pd.crosstab(data[target], data[var])\n",
    "    \n",
    "    print(\"\\n\", \"Testing the Weight of Evidence for the Variable\", var, \":\")\n",
    "    \n",
    "    for col in crosstab.columns:\n",
    "        if crosstab[col][1] == 0:\n",
    "            print(\"  Weight of\", col, \"[\", sum(crosstab[col]), \"/120 observations] is infinite\")\n",
    "        else:\n",
    "            print(\"  Weight of\", col, \"[\", sum(crosstab[col]), \"/120 observations] is\", np.log(float(crosstab[col][0]) / float(crosstab[col][1])))\n",
    "\n",
    "for var in [\"a2_Naus\", \"a3_Lumb\", \"a4_Uri\", \"a5_Mic\", \"a6_Ur\", \"d1_Infl\"]:\n",
    "    print(get_WoE(diagnosis, var, target))\n",
    "    print()           \n",
    "\n",
    "#Strongest weight of evidence: a3_Lumb, a6_Ur"
   ]
  },
  {
   "cell_type": "markdown",
   "metadata": {},
   "source": [
    "### STEP 2: ANALYZE & TRANSFORM CONTINUOUS VARIABLES \n",
    "\n",
    "\n",
    "#### ~ CATEGORIZE THE CONTINUOUS VARIABLE ~\n",
    "\n",
    "The only remaining variable to calculate is A1, temperature."
   ]
  },
  {
   "cell_type": "markdown",
   "metadata": {},
   "source": [
    "#### Patient Temperature WITHOUT Disease:\n",
    "\n",
    "You can see most patients without the disease have a temperature below 38 degrees. None are between 38 and 40."
   ]
  },
  {
   "cell_type": "code",
   "execution_count": 33,
   "metadata": {},
   "outputs": [
    {
     "data": {
      "text/plain": [
       "<matplotlib.axes._subplots.AxesSubplot at 0x2ca893c3588>"
      ]
     },
     "execution_count": 33,
     "metadata": {},
     "output_type": "execute_result"
    },
    {
     "data": {
      "image/png": "[encoded data removed]",
      "text/plain": [
       "<matplotlib.figure.Figure at 0x2ca893e17f0>"
      ]
     },
     "metadata": {},
     "output_type": "display_data"
    }
   ],
   "source": [
    "diagnosis['a1_Temp'][diagnosis['d2_Nefr']==0].hist(bins=20)"
   ]
  },
  {
   "cell_type": "markdown",
   "metadata": {},
   "source": [
    "#### Patient Temperature WITH Disease\n",
    "\n",
    "You can see that there is a higher frequency of temperature above 40 degrees:"
   ]
  },
  {
   "cell_type": "code",
   "execution_count": 34,
   "metadata": {},
   "outputs": [
    {
     "data": {
      "text/plain": [
       "<matplotlib.axes._subplots.AxesSubplot at 0x2ca894ee208>"
      ]
     },
     "execution_count": 34,
     "metadata": {},
     "output_type": "execute_result"
    },
    {
     "data": {
      "image/png": "[encoded data removed]",
      "text/plain": [
       "<matplotlib.figure.Figure at 0x2ca894ff710>"
      ]
     },
     "metadata": {},
     "output_type": "display_data"
    }
   ],
   "source": [
    "diagnosis['a1_Temp'][diagnosis['d2_Nefr']==1].hist(bins=20)"
   ]
  },
  {
   "cell_type": "markdown",
   "metadata": {},
   "source": [
    "#### ~ DIVIDE TEMPERATURE INTO DISTINCT CATEGORIES, WEIGH THE IMPORTANCE ~\n",
    "\n",
    "\n",
    "\n",
    "#### Patterns are visible across certain temperature ranges. Use this information to categorize the variables.\n",
    "\n",
    "- lambda x: 'n0' \n",
    "- if x < 38 else 'n1' \n",
    "- if x < 40 else 'n2'"
   ]
  },
  {
   "cell_type": "code",
   "execution_count": 35,
   "metadata": {},
   "outputs": [],
   "source": [
    "diagnosis.loc[:, 'a1_Temp_grp2'] = diagnosis['a1_Temp'].map(lambda x: 'n0' if x < 38 else 'n1' if x < 40 else 'n2')"
   ]
  },
  {
   "cell_type": "code",
   "execution_count": 36,
   "metadata": {},
   "outputs": [
    {
     "name": "stdout",
     "output_type": "stream",
     "text": [
      "\n",
      " Testing the Weight of Evidence for the Variable a1_Temp_grp2 :\n",
      "  Weight of n0 [ 20 /120 observations] is infinite\n",
      "  Weight of n1 [ 43 /120 observations] is 2.5902671654458267\n",
      "  Weight of n2 [ 7 /120 observations] is -inf\n",
      "  Weight of n3 [ 50 /120 observations] is -1.3862943611198906\n"
     ]
    },
    {
     "name": "stderr",
     "output_type": "stream",
     "text": [
      "C:\\ProgramData\\Anaconda3\\lib\\site-packages\\ipykernel_launcher.py:10: RuntimeWarning: divide by zero encountered in log\n",
      "  # Remove the CWD from sys.path while we load stuff.\n"
     ]
    }
   ],
   "source": [
    "diagnosis.loc[:, 'a1_Temp_grp2'] = diagnosis['a1_Temp'].map(lambda x: 'n0' if x < 37 else 'n1' if x < 38.2 else 'n2' if x < 39.8 else 'n3' if x < 42 else 'n4')\n",
    "get_WoE(diagnosis, 'a1_Temp_grp2', target) "
   ]
  },
  {
   "cell_type": "code",
   "execution_count": 37,
   "metadata": {},
   "outputs": [],
   "source": [
    "#Eliminate A1 and replace it with the A1 group that we just created\n",
    "features.remove('a1_Temp')\n",
    "features.remove('a1_Temp_grp')\n",
    "features.append('a1_Temp_grp2')"
   ]
  },
  {
   "cell_type": "code",
   "execution_count": 38,
   "metadata": {},
   "outputs": [
    {
     "name": "stdout",
     "output_type": "stream",
     "text": [
      "a2_Naus\n",
      "a3_Lumb\n",
      "a4_Uri\n",
      "a5_Mic\n",
      "a6_Ur\n",
      "d1_Infl\n",
      "a1_Temp_grp2\n"
     ]
    }
   ],
   "source": [
    "#List of variables available to make the model:\n",
    "for var in features:\n",
    "    print(var)"
   ]
  },
  {
   "cell_type": "markdown",
   "metadata": {},
   "source": [
    "### STEP 3: CREATE THE ACTUAL MODEL\n",
    "\n",
    "We have transformed the variables already. \n",
    "\n",
    "Next, we need to: \n",
    "\n",
    "- Create the dummy variables, \n",
    "- eliminate the collinear variables and \n",
    "- separate data into training and test sets."
   ]
  },
  {
   "cell_type": "markdown",
   "metadata": {},
   "source": [
    "#### ~ CREATE THE DUMMY VARIABLES ~"
   ]
  },
  {
   "cell_type": "code",
   "execution_count": 39,
   "metadata": {},
   "outputs": [],
   "source": [
    "# CREATE THE DUMMY VARIABLES\n",
    "data_model = pd.concat((pd.get_dummies(diagnosis['a1_Temp_grp2'], prefix = 'a1'),\n",
    "                        pd.get_dummies(diagnosis['a2_Naus'], prefix = 'a2'),\n",
    "                        pd.get_dummies(diagnosis['a3_Lumb'], prefix = 'a3'),\n",
    "                        pd.get_dummies(diagnosis['a4_Uri'], prefix = 'a4'),\n",
    "                        pd.get_dummies(diagnosis['a5_Mic'], prefix = 'a5'),\n",
    "                        pd.get_dummies(diagnosis['a6_Ur'], prefix = 'a6'),\n",
    "                        pd.get_dummies(diagnosis['d1_Infl'], prefix = 'd1')), axis = 1)\n"
   ]
  },
  {
   "cell_type": "code",
   "execution_count": 40,
   "metadata": {},
   "outputs": [
    {
     "name": "stderr",
     "output_type": "stream",
     "text": [
      "C:\\ProgramData\\Anaconda3\\lib\\site-packages\\ipykernel_launcher.py:23: RuntimeWarning: divide by zero encountered in double_scalars\n"
     ]
    },
    {
     "data": {
      "text/html": [
       "<div>\n",
       "<style scoped>\n",
       "    .dataframe tbody tr th:only-of-type {\n",
       "        vertical-align: middle;\n",
       "    }\n",
       "\n",
       "    .dataframe tbody tr th {\n",
       "        vertical-align: top;\n",
       "    }\n",
       "\n",
       "    .dataframe thead th {\n",
       "        text-align: right;\n",
       "    }\n",
       "</style>\n",
       "<table border=\"1\" class=\"dataframe\">\n",
       "  <thead>\n",
       "    <tr style=\"text-align: right;\">\n",
       "      <th></th>\n",
       "      <th>a1_n0</th>\n",
       "      <th>a1_n1</th>\n",
       "      <th>a1_n2</th>\n",
       "      <th>a1_n3</th>\n",
       "      <th>a2_0</th>\n",
       "      <th>a2_1</th>\n",
       "      <th>a3_0</th>\n",
       "      <th>a3_1</th>\n",
       "      <th>a4_0</th>\n",
       "      <th>a4_1</th>\n",
       "      <th>a5_0</th>\n",
       "      <th>a5_1</th>\n",
       "      <th>a6_0</th>\n",
       "      <th>a6_1</th>\n",
       "      <th>d1_0</th>\n",
       "      <th>d1_1</th>\n",
       "    </tr>\n",
       "  </thead>\n",
       "  <tbody>\n",
       "    <tr>\n",
       "      <th>VIF</th>\n",
       "      <td>inf</td>\n",
       "      <td>inf</td>\n",
       "      <td>inf</td>\n",
       "      <td>inf</td>\n",
       "      <td>inf</td>\n",
       "      <td>inf</td>\n",
       "      <td>inf</td>\n",
       "      <td>inf</td>\n",
       "      <td>inf</td>\n",
       "      <td>inf</td>\n",
       "      <td>inf</td>\n",
       "      <td>inf</td>\n",
       "      <td>inf</td>\n",
       "      <td>inf</td>\n",
       "      <td>inf</td>\n",
       "      <td>inf</td>\n",
       "    </tr>\n",
       "  </tbody>\n",
       "</table>\n",
       "</div>"
      ],
      "text/plain": [
       "     a1_n0  a1_n1  a1_n2  a1_n3  a2_0  a2_1  a3_0  a3_1  a4_0  a4_1  a5_0  \\\n",
       "VIF    inf    inf    inf    inf   inf   inf   inf   inf   inf   inf   inf   \n",
       "\n",
       "     a5_1  a6_0  a6_1  d1_0  d1_1  \n",
       "VIF   inf   inf   inf   inf   inf  "
      ]
     },
     "execution_count": 40,
     "metadata": {},
     "output_type": "execute_result"
    }
   ],
   "source": [
    "# Too many infinites!!! Not all colinear variables have been eliminated.\n",
    "# We will pass them through the function selectDataUsingVIF in the next stage.\n",
    "calculateVIF(data_model)"
   ]
  },
  {
   "cell_type": "code",
   "execution_count": 41,
   "metadata": {},
   "outputs": [
    {
     "name": "stderr",
     "output_type": "stream",
     "text": [
      "C:\\ProgramData\\Anaconda3\\lib\\site-packages\\ipykernel_launcher.py:23: RuntimeWarning: divide by zero encountered in double_scalars\n"
     ]
    },
    {
     "data": {
      "text/html": [
       "<div>\n",
       "<style scoped>\n",
       "    .dataframe tbody tr th:only-of-type {\n",
       "        vertical-align: middle;\n",
       "    }\n",
       "\n",
       "    .dataframe tbody tr th {\n",
       "        vertical-align: top;\n",
       "    }\n",
       "\n",
       "    .dataframe thead th {\n",
       "        text-align: right;\n",
       "    }\n",
       "</style>\n",
       "<table border=\"1\" class=\"dataframe\">\n",
       "  <thead>\n",
       "    <tr style=\"text-align: right;\">\n",
       "      <th></th>\n",
       "      <th>a1_n1</th>\n",
       "      <th>a1_n2</th>\n",
       "      <th>a1_n3</th>\n",
       "      <th>a3_1</th>\n",
       "      <th>a4_1</th>\n",
       "      <th>a5_1</th>\n",
       "      <th>a6_1</th>\n",
       "    </tr>\n",
       "  </thead>\n",
       "  <tbody>\n",
       "    <tr>\n",
       "      <th>VIF</th>\n",
       "      <td>2.398578</td>\n",
       "      <td>1.59016</td>\n",
       "      <td>2.279761</td>\n",
       "      <td>1.4493</td>\n",
       "      <td>2.184235</td>\n",
       "      <td>1.338548</td>\n",
       "      <td>1.886937</td>\n",
       "    </tr>\n",
       "  </tbody>\n",
       "</table>\n",
       "</div>"
      ],
      "text/plain": [
       "        a1_n1    a1_n2     a1_n3    a3_1      a4_1      a5_1      a6_1\n",
       "VIF  2.398578  1.59016  2.279761  1.4493  2.184235  1.338548  1.886937"
      ]
     },
     "execution_count": 41,
     "metadata": {},
     "output_type": "execute_result"
    }
   ],
   "source": [
    "# None of the variables are over 5, or infinite. \n",
    "# (VIF measures when the variance of a regressive coefficient has increased to due to colineality.)\n",
    "# Collinear variables are therefore eliminated.\n",
    "\n",
    "model_vars = selectDataUsingVIF(data_model)\n",
    "calculateVIF(model_vars)"
   ]
  },
  {
   "cell_type": "markdown",
   "metadata": {},
   "source": [
    "#### ~ SEPARATE THE DATA INTO TRAINING AND TEST SETS ~"
   ]
  },
  {
   "cell_type": "code",
   "execution_count": 42,
   "metadata": {},
   "outputs": [],
   "source": [
    "\n",
    "# Separate the variables into training and test sets\n",
    "x_train, x_test, y_train, y_test = train_test_split(model_vars, diagnosis['d2_Nefr'])"
   ]
  },
  {
   "cell_type": "code",
   "execution_count": 43,
   "metadata": {},
   "outputs": [],
   "source": [
    "#IMPORT\n",
    "#from sklearn.linear_model.logistic import LogisticRegression\n",
    "\n",
    "# Instantiate the regressor\n",
    "model = LogisticRegression().fit(x_train, y_train)\n",
    "y_pred_train = model.predict(x_train)\n",
    "y_pred_test = model.predict(x_test)"
   ]
  },
  {
   "cell_type": "markdown",
   "metadata": {},
   "source": [
    "#### TRAINING DATA SET"
   ]
  },
  {
   "cell_type": "code",
   "execution_count": 44,
   "metadata": {},
   "outputs": [
    {
     "name": "stdout",
     "output_type": "stream",
     "text": [
      "\n",
      " CONFUSION MATRIX:\n",
      "[[57  0]\n",
      " [ 0 33]]\n",
      "\n",
      " ACCURACY SCORE: \n",
      " 1.0\n",
      "\n",
      " PRECISION SCORE: \n",
      " 1.0\n",
      "\n",
      " RECALL SCORE: \n",
      " 1.0\n",
      "\n",
      " F1 SCORE: \n",
      " 1.0\n",
      "\n",
      " AUC GRAPH: \n",
      " 1.0\n"
     ]
    },
    {
     "data": {
      "image/png": "[encoded data removed]",
      "text/plain": [
       "<matplotlib.figure.Figure at 0x2ca896eb128>"
      ]
     },
     "metadata": {},
     "output_type": "display_data"
    }
   ],
   "source": [
    "# Training Set\n",
    "metricas_modelos(y_train, y_pred_train)"
   ]
  },
  {
   "cell_type": "markdown",
   "metadata": {},
   "source": [
    "#### TESTING DATA SET"
   ]
  },
  {
   "cell_type": "code",
   "execution_count": 45,
   "metadata": {},
   "outputs": [
    {
     "name": "stdout",
     "output_type": "stream",
     "text": [
      "\n",
      " CONFUSION MATRIX:\n",
      "[[13  0]\n",
      " [ 3 14]]\n",
      "\n",
      " ACCURACY SCORE: \n",
      " 0.9\n",
      "\n",
      " PRECISION SCORE: \n",
      " 1.0\n",
      "\n",
      " RECALL SCORE: \n",
      " 0.8235294117647058\n",
      "\n",
      " F1 SCORE: \n",
      " 0.9032258064516129\n",
      "\n",
      " AUC GRAPH: \n",
      " 0.9117647058823529\n"
     ]
    },
    {
     "data": {
      "image/png": "[encoded data removed]",
      "text/plain": [
       "<matplotlib.figure.Figure at 0x2ca897414e0>"
      ]
     },
     "metadata": {},
     "output_type": "display_data"
    }
   ],
   "source": [
    "#Testing Set\n",
    "metricas_modelos(y_test, y_pred_test)"
   ]
  },
  {
   "cell_type": "markdown",
   "metadata": {},
   "source": [
    "### B) Evaluar el rendimiento de los modelos.\n",
    "\n",
    "#### MAKE A PREDICTION"
   ]
  },
  {
   "cell_type": "code",
   "execution_count": 46,
   "metadata": {},
   "outputs": [],
   "source": [
    "# 1 MEANS = PATIENT TESTS POSITIVE FOR THE DISEASE D1\n",
    "# 0 MEANS = PATIENT TESTS NEGATIVE FOR DISEASE D1\n",
    "def diseased_or_not(prediction):\n",
    "    if final_diagnosis == [1]:\n",
    "        print(\"I have some terrible news for you... You have nephritis. Sorry!\")\n",
    "    else: \n",
    "        print(\"Congrats! You're fine. Go party!\")"
   ]
  },
  {
   "cell_type": "code",
   "execution_count": 47,
   "metadata": {},
   "outputs": [
    {
     "data": {
      "text/html": [
       "<div>\n",
       "<style scoped>\n",
       "    .dataframe tbody tr th:only-of-type {\n",
       "        vertical-align: middle;\n",
       "    }\n",
       "\n",
       "    .dataframe tbody tr th {\n",
       "        vertical-align: top;\n",
       "    }\n",
       "\n",
       "    .dataframe thead th {\n",
       "        text-align: right;\n",
       "    }\n",
       "</style>\n",
       "<table border=\"1\" class=\"dataframe\">\n",
       "  <thead>\n",
       "    <tr style=\"text-align: right;\">\n",
       "      <th></th>\n",
       "      <th>a1_n1</th>\n",
       "      <th>a1_n2</th>\n",
       "      <th>a1_n3</th>\n",
       "      <th>a3_1</th>\n",
       "      <th>a4_1</th>\n",
       "      <th>a5_1</th>\n",
       "      <th>a6_1</th>\n",
       "    </tr>\n",
       "  </thead>\n",
       "  <tbody>\n",
       "    <tr>\n",
       "      <th>33</th>\n",
       "      <td>1</td>\n",
       "      <td>0</td>\n",
       "      <td>0</td>\n",
       "      <td>0</td>\n",
       "      <td>1</td>\n",
       "      <td>0</td>\n",
       "      <td>0</td>\n",
       "    </tr>\n",
       "    <tr>\n",
       "      <th>68</th>\n",
       "      <td>0</td>\n",
       "      <td>1</td>\n",
       "      <td>0</td>\n",
       "      <td>1</td>\n",
       "      <td>1</td>\n",
       "      <td>0</td>\n",
       "      <td>1</td>\n",
       "    </tr>\n",
       "    <tr>\n",
       "      <th>14</th>\n",
       "      <td>0</td>\n",
       "      <td>0</td>\n",
       "      <td>0</td>\n",
       "      <td>1</td>\n",
       "      <td>0</td>\n",
       "      <td>0</td>\n",
       "      <td>0</td>\n",
       "    </tr>\n",
       "    <tr>\n",
       "      <th>21</th>\n",
       "      <td>1</td>\n",
       "      <td>0</td>\n",
       "      <td>0</td>\n",
       "      <td>0</td>\n",
       "      <td>1</td>\n",
       "      <td>1</td>\n",
       "      <td>0</td>\n",
       "    </tr>\n",
       "    <tr>\n",
       "      <th>46</th>\n",
       "      <td>1</td>\n",
       "      <td>0</td>\n",
       "      <td>0</td>\n",
       "      <td>0</td>\n",
       "      <td>1</td>\n",
       "      <td>1</td>\n",
       "      <td>0</td>\n",
       "    </tr>\n",
       "  </tbody>\n",
       "</table>\n",
       "</div>"
      ],
      "text/plain": [
       "    a1_n1  a1_n2  a1_n3  a3_1  a4_1  a5_1  a6_1\n",
       "33      1      0      0     0     1     0     0\n",
       "68      0      1      0     1     1     0     1\n",
       "14      0      0      0     1     0     0     0\n",
       "21      1      0      0     0     1     1     0\n",
       "46      1      0      0     0     1     1     0"
      ]
     },
     "execution_count": 47,
     "metadata": {},
     "output_type": "execute_result"
    }
   ],
   "source": [
    "# observe the training data set:\n",
    "x_train.head()"
   ]
  },
  {
   "cell_type": "code",
   "execution_count": 48,
   "metadata": {},
   "outputs": [],
   "source": [
    "# Fill in values for the predictive data set:\n",
    "# put 1 for symptoms: a1_n2 (fever 40+), a3, a4, a5, a6\n",
    "new_prediction = [0,1,0,1,1,1,1]"
   ]
  },
  {
   "cell_type": "code",
   "execution_count": 49,
   "metadata": {},
   "outputs": [
    {
     "name": "stdout",
     "output_type": "stream",
     "text": [
      "I have some terrible news for you... You have nephritis. Sorry!\n"
     ]
    }
   ],
   "source": [
    "# Check what our model predicts!\n",
    "final_diagnosis = model.predict([new_prediction])\n",
    "diseased_or_not(final_diagnosis)"
   ]
  },
  {
   "cell_type": "markdown",
   "metadata": {},
   "source": [
    "# EXERCISE 2\n",
    "\n",
    "### En el archivo “concrete.csv” se encuentra los datos de diferentes mezclas de hormigón. \n",
    "\n",
    "\n",
    "### Utilizar el análisis de componentes principales y obtener el número de componentes principales con los que se puede explicar el \n",
    "\n",
    "#### a) 50% de la varianza\n",
    "#### b) 75% de la varianza\n",
    "#### c) 90% de la varianza. \n",
    "\n",
    "#### d) Obtener el porcentaje de la varianza que explica la primera componente principal"
   ]
  },
  {
   "cell_type": "code",
   "execution_count": 77,
   "metadata": {},
   "outputs": [
    {
     "data": {
      "text/html": [
       "<div>\n",
       "<style scoped>\n",
       "    .dataframe tbody tr th:only-of-type {\n",
       "        vertical-align: middle;\n",
       "    }\n",
       "\n",
       "    .dataframe tbody tr th {\n",
       "        vertical-align: top;\n",
       "    }\n",
       "\n",
       "    .dataframe thead th {\n",
       "        text-align: right;\n",
       "    }\n",
       "</style>\n",
       "<table border=\"1\" class=\"dataframe\">\n",
       "  <thead>\n",
       "    <tr style=\"text-align: right;\">\n",
       "      <th></th>\n",
       "      <th>cement</th>\n",
       "      <th>slag</th>\n",
       "      <th>ash</th>\n",
       "      <th>water</th>\n",
       "      <th>superplastic</th>\n",
       "      <th>coarseagg</th>\n",
       "      <th>fineagg</th>\n",
       "      <th>age</th>\n",
       "      <th>strength</th>\n",
       "    </tr>\n",
       "  </thead>\n",
       "  <tbody>\n",
       "    <tr>\n",
       "      <th>0</th>\n",
       "      <td>540.0</td>\n",
       "      <td>0.0</td>\n",
       "      <td>0.0</td>\n",
       "      <td>162.0</td>\n",
       "      <td>2.5</td>\n",
       "      <td>1040.0</td>\n",
       "      <td>676.0</td>\n",
       "      <td>28</td>\n",
       "      <td>79.99</td>\n",
       "    </tr>\n",
       "    <tr>\n",
       "      <th>1</th>\n",
       "      <td>540.0</td>\n",
       "      <td>0.0</td>\n",
       "      <td>0.0</td>\n",
       "      <td>162.0</td>\n",
       "      <td>2.5</td>\n",
       "      <td>1055.0</td>\n",
       "      <td>676.0</td>\n",
       "      <td>28</td>\n",
       "      <td>61.89</td>\n",
       "    </tr>\n",
       "    <tr>\n",
       "      <th>2</th>\n",
       "      <td>332.5</td>\n",
       "      <td>142.5</td>\n",
       "      <td>0.0</td>\n",
       "      <td>228.0</td>\n",
       "      <td>0.0</td>\n",
       "      <td>932.0</td>\n",
       "      <td>594.0</td>\n",
       "      <td>270</td>\n",
       "      <td>40.27</td>\n",
       "    </tr>\n",
       "    <tr>\n",
       "      <th>3</th>\n",
       "      <td>332.5</td>\n",
       "      <td>142.5</td>\n",
       "      <td>0.0</td>\n",
       "      <td>228.0</td>\n",
       "      <td>0.0</td>\n",
       "      <td>932.0</td>\n",
       "      <td>594.0</td>\n",
       "      <td>365</td>\n",
       "      <td>41.05</td>\n",
       "    </tr>\n",
       "    <tr>\n",
       "      <th>4</th>\n",
       "      <td>198.6</td>\n",
       "      <td>132.4</td>\n",
       "      <td>0.0</td>\n",
       "      <td>192.0</td>\n",
       "      <td>0.0</td>\n",
       "      <td>978.4</td>\n",
       "      <td>825.5</td>\n",
       "      <td>360</td>\n",
       "      <td>44.30</td>\n",
       "    </tr>\n",
       "  </tbody>\n",
       "</table>\n",
       "</div>"
      ],
      "text/plain": [
       "   cement   slag  ash  water  superplastic  coarseagg  fineagg  age  strength\n",
       "0   540.0    0.0  0.0  162.0           2.5     1040.0    676.0   28     79.99\n",
       "1   540.0    0.0  0.0  162.0           2.5     1055.0    676.0   28     61.89\n",
       "2   332.5  142.5  0.0  228.0           0.0      932.0    594.0  270     40.27\n",
       "3   332.5  142.5  0.0  228.0           0.0      932.0    594.0  365     41.05\n",
       "4   198.6  132.4  0.0  192.0           0.0      978.4    825.5  360     44.30"
      ]
     },
     "execution_count": 77,
     "metadata": {},
     "output_type": "execute_result"
    }
   ],
   "source": [
    "# Import the data\n",
    "concrete = pd.read_csv('concrete.csv')\n",
    "concrete.head()"
   ]
  },
  {
   "cell_type": "code",
   "execution_count": 78,
   "metadata": {},
   "outputs": [],
   "source": [
    "# Import the PCA model using sk.learn\n",
    "from sklearn.decomposition import PCA\n",
    "\n",
    "# Calculate the PCA\n",
    "    # PCA locates the main axes of the data. \n",
    "    # It explains how important they are in the distribution of the data.\n",
    "pca = PCA(n_components = None)\n",
    "concrete_pca = pca.fit_transform(concrete)"
   ]
  },
  {
   "cell_type": "markdown",
   "metadata": {},
   "source": [
    "### See below\n",
    "\n",
    "#### a) 50% de la varianza --> n=2 (explains 57%)\n",
    "#### b) 75% de la varianza --> n=3 (explains 75%)\n",
    "#### c) 90% de la varianza. --> n=5 (explains 96%"
   ]
  },
  {
   "cell_type": "code",
   "execution_count": 72,
   "metadata": {},
   "outputs": [
    {
     "name": "stdout",
     "output_type": "stream",
     "text": [
      "Variance explained for 1 components: 0.3249129815446272\n",
      "Variance explained for 2 components: 0.5724331282512514\n",
      "Variance explained for 3 components: 0.7560051466630762\n",
      "Variance explained for 4 components: 0.8630074198158685\n",
      "Variance explained for 5 components: 0.9634424828254187\n",
      "Variance explained for 6 components: 0.9953882736798664\n",
      "Variance explained for 7 components: 0.997959553582989\n",
      "Variance explained for 8 components: 0.9997163809073328\n",
      "Variance explained for 9 components: 0.9999999999999999\n"
     ]
    }
   ],
   "source": [
    "# Now display the concrete variance for components 1 to 9\n",
    "    # This helps us select the components that best explain the variability    \n",
    "for i in range(shape(concrete_pca)[1]):\n",
    "    print(\"Variance explained for\", i + 1, \"components:\", pca.explained_variance_ratio_[range(i + 1)].sum())"
   ]
  },
  {
   "cell_type": "markdown",
   "metadata": {},
   "source": [
    "### d) Obtener el porcentaje de la varianza que explica la primera componente principal\n",
    "\n",
    "#### If we select 9 PCAs, the first PCA explains 32 % of the variance:\n"
   ]
  },
  {
   "cell_type": "code",
   "execution_count": 76,
   "metadata": {},
   "outputs": [
    {
     "name": "stdout",
     "output_type": "stream",
     "text": [
      "The component \" 1 \" explains 32 percent of the variance. \n",
      "That variance is: \n",
      " [ 0.90443974 -0.25467084 -0.23937562  0.00542035 -0.00112053 -0.01281057\n",
      " -0.21226345  0.10031213  0.06721449] \n",
      "\n",
      "The component \" 2 \" explains 24 percent of the variance. \n",
      "That variance is: \n",
      " [ 0.02306241  0.78881234 -0.29906341  0.07548306 -0.00487303 -0.27609068\n",
      " -0.44648591  0.07000456  0.04008098] \n",
      "\n",
      "The component \" 3 \" explains 18 percent of the variance. \n",
      "That variance is: \n",
      " [ 0.15204486  0.07144972 -0.04889159 -0.04206219  0.02418344 -0.75985985\n",
      "  0.61268308 -0.11771877  0.02018896] \n",
      "\n",
      "The component \" 4 \" explains 10 percent of the variance. \n",
      "That variance is: \n",
      " [-0.01348223 -0.20068135  0.68623788  0.07578572  0.02037147 -0.47859717\n",
      " -0.48052483  0.14663614  0.03166714] \n",
      "\n",
      "The component \" 5 \" explains 10 percent of the variance. \n",
      "That variance is: \n",
      " [-0.1537579  -0.10133729 -0.18780743  0.09396764 -0.02279073 -0.0620411\n",
      "  0.1456254   0.94572822  0.0448394 ] \n",
      "\n",
      "The component \" 6 \" explains 3 percent of the variance. \n",
      "That variance is: \n",
      " [-0.2767579  -0.43389252 -0.49544777  0.46788057 -0.10139455 -0.27528078\n",
      " -0.25561273 -0.20429824 -0.27861376] \n",
      "\n",
      "The component \" 7 \" explains 0 percent of the variance. \n",
      "That variance is: \n",
      " [ 0.18388623  0.18290536  0.19443886  0.07069672 -0.05613382  0.07623927\n",
      "  0.10238081  0.11287813 -0.92614267] \n",
      "\n",
      "The component \" 8 \" explains 0 percent of the variance. \n",
      "That variance is: \n",
      " [ 0.15485296  0.18816579  0.24777257  0.83257782 -0.22240426  0.17319318\n",
      "  0.22704532 -0.02818278  0.23288138] \n",
      "\n",
      "The component \" 9 \" explains 0 percent of the variance. \n",
      "That variance is: \n",
      " [-0.01128952 -0.01212826  0.0031208  -0.24664593 -0.96724363 -0.04160128\n",
      " -0.02709004 -0.00126194  0.0292427 ] \n",
      "\n"
     ]
    }
   ],
   "source": [
    "# How important is the component number?\n",
    "# Explained variance quantifies the importance of the direction\n",
    "pca = PCA(n_components=9).fit(concrete)\n",
    "\n",
    "for i in range(len(pca.explained_variance_)):\n",
    "    print('The component \"', i + 1, '\" explains', int(pca.explained_variance_ratio_[i] / sum(pca.explained_variance_ratio_)*100), 'percent of the variance.', \"\\n\" 'That variance is:', \"\\n\", pca.components_[i], \"\\n\")"
   ]
  },
  {
   "cell_type": "markdown",
   "metadata": {},
   "source": [
    "#### If we select 3 PCAs, total of 75 variance, the first component from those 75% explains 42%"
   ]
  },
  {
   "cell_type": "code",
   "execution_count": 91,
   "metadata": {},
   "outputs": [
    {
     "name": "stdout",
     "output_type": "stream",
     "text": [
      "The component \" 1 \" explains 42 percent of the variance. \n",
      "That variance is: \n",
      " [ 0.90443974 -0.25467084 -0.23937562  0.00542035 -0.00112053 -0.01281057\n",
      " -0.21226345  0.10031213  0.06721449] \n",
      "\n",
      "The component \" 2 \" explains 32 percent of the variance. \n",
      "That variance is: \n",
      " [ 0.02306241  0.78881234 -0.29906341  0.07548306 -0.00487303 -0.27609068\n",
      " -0.44648591  0.07000456  0.04008098] \n",
      "\n",
      "The component \" 3 \" explains 24 percent of the variance. \n",
      "That variance is: \n",
      " [ 0.15204486  0.07144972 -0.04889159 -0.04206219  0.02418344 -0.75985985\n",
      "  0.61268308 -0.11771877  0.02018896] \n",
      "\n"
     ]
    }
   ],
   "source": [
    "pca = PCA(n_components=3).fit(concrete)\n",
    "\n",
    "for i in range(len(pca.explained_variance_)):\n",
    "    print('The component \"', i + 1, '\" explains', int(pca.explained_variance_ratio_[i] / sum(pca.explained_variance_ratio_)*100), 'percent of the variance.', \"\\n\" 'That variance is:', \"\\n\", pca.components_[i], \"\\n\")\n",
    "    "
   ]
  },
  {
   "cell_type": "markdown",
   "metadata": {},
   "source": [
    "# EXERCISE 3\n",
    "\n",
    "## Regresión de una función con Theano (Nivel Intermedio)\n",
    "\n",
    "\n",
    "### a) Create a dataset using the following code:\n",
    "trX = np.linspace(-1, 1, 101)\n",
    "trY = np.linspace(-1, 1, 101)\n",
    "\n",
    "for i in range(len(trY)):\n",
    "    trY[i] = math.sin(0.2 * trX[i]) + math.exp(-0.7 * trX[i]) + np.random.randn() * 0.033\n",
    "\n",
    "### b) NOW use Theano to obtain the parameters w_0 & w_1 for the corresponding model\n",
    "  y = sin(w_0 * x) + exp(w_1 * x)"
   ]
  },
  {
   "cell_type": "markdown",
   "metadata": {},
   "source": [
    "### THEANO INSTALLATION\n",
    "\n",
    "En las sesiones se aprendizaje profundo se utilizará la librería Theano (http://deeplearning.net/software/theano/index.html), la cual no se incluye en la distribución estándar de Anaconda.\n",
    "\n",
    "Theano es un paquete de software que le permite escribir código simbólico y compilarlo. Fue desarrollado por investigadores de aprendizaje automático en la Universidad de Montreal. Su uso no se limita a las aplicaciones de aprendizaje automático, pero fue diseñado con el aprendizaje automático en mente.\n",
    "\n",
    "Para la instalación de Theano en Anaconda se han de ejecutar los siguientes comandos en la terminal:\n",
    "\n",
    "    pip install Theano\n",
    "\n",
    "    conda install pydot\n",
    "\n",
    "A partir de este punto debería poderse importar Theano en un IPython Notebook utilizando el siguiente comando:\n",
    "\n",
    "    import theano\n",
    "    \n",
    "___________________________________________________________\n",
    "___________________________________________________________\n",
    "___________________________________________________________"
   ]
  },
  {
   "cell_type": "markdown",
   "metadata": {},
   "source": [
    "### a) Create a dataset "
   ]
  },
  {
   "cell_type": "code",
   "execution_count": null,
   "metadata": {},
   "outputs": [],
   "source": [
    "#imports\n",
    "import theano\n",
    "import theano.tensor as T\n",
    "import math"
   ]
  },
  {
   "cell_type": "code",
   "execution_count": 94,
   "metadata": {},
   "outputs": [],
   "source": [
    "#Implement the function regression\n",
    "trX = np.linspace(-1, 1, 101)\n",
    "trY = np.linspace(-1, 1, 101)\n",
    "\n",
    "for i in range(len(trY)):\n",
    "    trY[i] = math.sin(0.2 * trX[i]) + math.exp(-0.7 * trX[i]) + np.random.randn() * 0.033\n",
    "\n",
    "\n",
    "X = T.scalar()\n",
    "Y = T.scalar()\n",
    "\n",
    "def model(x_1,w_0,w_1):\n",
    "    return (T.sin(w_0 * x_1) + T.exp(w_1 * x_1))"
   ]
  },
  {
   "cell_type": "markdown",
   "metadata": {},
   "source": [
    "### b) Use Theano to obtain the parameters w_0 & w_1"
   ]
  },
  {
   "cell_type": "code",
   "execution_count": null,
   "metadata": {},
   "outputs": [],
   "source": [
    "w_0 = theano.shared(np.asarray(0., dtype = theano.config.floatX))\n",
    "w_1 = theano.shared(np.asarray(0., dtype = theano.config.floatX))\n",
    "y = model(X, w_0, w_1)\n",
    "\n",
    "\n",
    "\n",
    "cost     = T.mean(T.sqr(y - Y))\n",
    "gradient_w_0 = T.grad(cost = cost, wrt = w_0)\n",
    "gradient_w_1 = T.grad(cost = cost, wrt = w_1)\n",
    "updates  = [[w_0, w_0 - gradient_w_0 * 0.01], [w_1, w_1 - gradient_w_1 * 0.01]]\n",
    "\n",
    "train = theano.function(inputs = [X, Y],\n",
    "                        outputs = cost,\n",
    "                        updates = updates,\n",
    "                        allow_input_downcast = True)\n",
    "\n",
    "for i in range(15):\n",
    "    for x, y in zip(trX, trY):\n",
    "        cost_i = train(x, y)\n",
    "    print('In step', i, 'the value for w_0 is: ', w_0.get_value(), \"\\n\", 'and for w_1 is: ', w_1.get_value(), \"\\n\", 'the cost will be: ', cost_i, \"\\n\") \n",
    "    "
   ]
  }
 ],
 "metadata": {
  "kernelspec": {
   "display_name": "Python 3",
   "language": "python",
   "name": "python3"
  },
  "language_info": {
   "codemirror_mode": {
    "name": "ipython",
    "version": 3
   },
   "file_extension": ".py",
   "mimetype": "text/x-python",
   "name": "python",
   "nbconvert_exporter": "python",
   "pygments_lexer": "ipython3",
   "version": "3.6.4"
  }
 },
 "nbformat": 4,
 "nbformat_minor": 2
}
