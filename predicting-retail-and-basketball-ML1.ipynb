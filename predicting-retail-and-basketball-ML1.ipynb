{
 "cells": [
  {
   "cell_type": "code",
   "execution_count": 1,
   "metadata": {
    "collapsed": true
   },
   "outputs": [],
   "source": [
    "#####################EJERCICIO 1#####################\n",
    "    \n",
    "                    #retail.csv"
   ]
  },
  {
   "cell_type": "code",
   "execution_count": 2,
   "metadata": {
    "collapsed": true
   },
   "outputs": [],
   "source": [
    "#####################EJERCICIO 1#####################\n",
    "#---------------------QUESTION 1---------------------\n",
    "\n",
    "#1. Obtain the datasets (2, 3, 4 elements) with highest support\n",
    "\n",
    "\n",
    "#ANSWER:\n",
    "    #2 elements: {39, 48}:  sup = 0.3\n",
    "    #3 elements: {41, 39, 48}:  sup = 0.123\n",
    "    #4 elements: {38, 41, 39, 48}:  sup = 0.034\n"
   ]
  },
  {
   "cell_type": "code",
   "execution_count": 6,
   "metadata": {},
   "outputs": [],
   "source": [
    "import apriori\n",
    "import os\n",
    "import csv\n",
    "\n",
    "data_file = csv.reader(open(\"retail.csv\", \"r\"))\n",
    "\n",
    "dataset = []\n",
    "for row in data_file:\n",
    "    dataset.append(row)"
   ]
  },
  {
   "cell_type": "code",
   "execution_count": 8,
   "metadata": {},
   "outputs": [
    {
     "name": "stdout",
     "output_type": "stream",
     "text": [
      "{1327}:  sup = 0.038\n",
      "{310}:  sup = 0.034\n",
      "{237}:  sup = 0.034\n",
      "{170}:  sup = 0.04\n",
      "{89}:  sup = 0.038\n",
      "{65}:  sup = 0.041\n",
      "{48}:  sup = 0.44\n",
      "{41}:  sup = 0.267\n",
      "{39}:  sup = 0.558\n",
      "{38}:  sup = 0.173\n",
      "{32}:  sup = 0.177\n",
      "{32, 39}:  sup = 0.098\n",
      "{32, 48}:  sup = 0.092\n",
      "{170, 38}:  sup = 0.039\n",
      "{41, 48}:  sup = 0.151\n",
      "{32, 41}:  sup = 0.059\n",
      "{48, 38}:  sup = 0.08\n",
      "{48, 39}:  sup = 0.3\n",
      "{39, 38}:  sup = 0.113\n",
      "{41, 38}:  sup = 0.07\n",
      "{41, 39}:  sup = 0.2\n",
      "{32, 41, 48}:  sup = 0.036\n",
      "{32, 41, 39}:  sup = 0.043\n",
      "{32, 39, 48}:  sup = 0.059\n",
      "{41, 48, 39}:  sup = 0.123\n",
      "{41, 48, 38}:  sup = 0.04\n",
      "{48, 38, 39}:  sup = 0.061\n",
      "{41, 39, 38}:  sup = 0.054\n",
      "{41, 39, 38, 48}:  sup = 0.034\n"
     ]
    }
   ],
   "source": [
    "F, soporte = apriori.apriori(dataset, min_support = 0.033, verbose = True)"
   ]
  },
  {
   "cell_type": "code",
   "execution_count": 9,
   "metadata": {
    "collapsed": true
   },
   "outputs": [],
   "source": [
    "#####################EJERCICIO 1#####################\n",
    "#---------------------QUESTION 2---------------------\n",
    "\n",
    "#2. Utilizando como soporte mínimo el obtenido en paso anterior para el conjunto de 3 elementos, \n",
    "#obtener todas las reglas de asociación con confianza de 0,8\n",
    "\n",
    "#Answer:\n",
    "    #3 elements: {41, 39, 48}:  sup = 0.123\n",
    "    #{48, 41} ---> {39}:  conf = 0.812, sup = 0.123"
   ]
  },
  {
   "cell_type": "code",
   "execution_count": 11,
   "metadata": {},
   "outputs": [
    {
     "name": "stdout",
     "output_type": "stream",
     "text": [
      "{48}:  sup = 0.44\n",
      "{41}:  sup = 0.267\n",
      "{39}:  sup = 0.558\n",
      "{38}:  sup = 0.173\n",
      "{32}:  sup = 0.177\n",
      "{41, 48}:  sup = 0.151\n",
      "{48, 39}:  sup = 0.3\n",
      "{41, 39}:  sup = 0.2\n",
      "{41, 48, 39}:  sup = 0.123\n",
      "{41, 48} ---> {39}:  conf = 0.812, sup = 0.123\n"
     ]
    }
   ],
   "source": [
    "F, soporte = apriori.apriori(dataset, min_support = 0.122, verbose = True)\n",
    "H = apriori.generate_rules(F, soporte, min_confidence=0.8, verbose = True)"
   ]
  },
  {
   "cell_type": "code",
   "execution_count": null,
   "metadata": {
    "collapsed": true
   },
   "outputs": [],
   "source": [
    "#####################EJERCICIO 1#####################\n",
    "#---------------------QUESTION 3---------------------\n",
    "\n",
    "#3. Utilizando como soporte mínimo el obtenido en el primer paso para el conjunto de 4 elementos, \n",
    "    #obtener todas las reglas de asociación con confianza de 0,5\n",
    "\n",
    "        #4 elements: {38, 41, 39, 48}:  sup = 0.034    "
   ]
  },
  {
   "cell_type": "code",
   "execution_count": 12,
   "metadata": {},
   "outputs": [
    {
     "name": "stdout",
     "output_type": "stream",
     "text": [
      "Reglas de asociacón con confianza de 0.5 y soporte minimo 0.034: \n",
      "{1327}:  sup = 0.038\n",
      "{310}:  sup = 0.034\n",
      "{237}:  sup = 0.034\n",
      "{170}:  sup = 0.04\n",
      "{89}:  sup = 0.038\n",
      "{65}:  sup = 0.041\n",
      "{48}:  sup = 0.44\n",
      "{41}:  sup = 0.267\n",
      "{39}:  sup = 0.558\n",
      "{38}:  sup = 0.173\n",
      "{32}:  sup = 0.177\n",
      "{32, 39}:  sup = 0.098\n",
      "{32, 48}:  sup = 0.092\n",
      "{170, 38}:  sup = 0.039\n",
      "{41, 48}:  sup = 0.151\n",
      "{32, 41}:  sup = 0.059\n",
      "{48, 38}:  sup = 0.08\n",
      "{48, 39}:  sup = 0.3\n",
      "{39, 38}:  sup = 0.113\n",
      "{41, 38}:  sup = 0.07\n",
      "{41, 39}:  sup = 0.2\n",
      "{32, 41, 48}:  sup = 0.036\n",
      "{32, 41, 39}:  sup = 0.043\n",
      "{32, 39, 48}:  sup = 0.059\n",
      "{41, 48, 39}:  sup = 0.123\n",
      "{41, 48, 38}:  sup = 0.04\n",
      "{48, 38, 39}:  sup = 0.061\n",
      "{41, 39, 38}:  sup = 0.054\n",
      "{41, 39, 38, 48}:  sup = 0.034\n",
      "{32} ---> {39}:  conf = 0.552, sup = 0.098\n",
      "{32} ---> {48}:  conf = 0.517, sup = 0.092\n",
      "{170} ---> {38}:  conf = 0.984, sup = 0.039\n",
      "{41} ---> {48}:  conf = 0.566, sup = 0.151\n",
      "{39} ---> {48}:  conf = 0.537, sup = 0.3\n",
      "{48} ---> {39}:  conf = 0.682, sup = 0.3\n",
      "{38} ---> {39}:  conf = 0.651, sup = 0.113\n",
      "{41} ---> {39}:  conf = 0.749, sup = 0.2\n",
      "{32, 41} ---> {48}:  conf = 0.611, sup = 0.036\n",
      "{32, 41} ---> {39}:  conf = 0.721, sup = 0.043\n",
      "{32, 48} ---> {39}:  conf = 0.645, sup = 0.059\n",
      "{32, 39} ---> {48}:  conf = 0.604, sup = 0.059\n",
      "{41, 39} ---> {48}:  conf = 0.613, sup = 0.123\n",
      "{41, 48} ---> {39}:  conf = 0.812, sup = 0.123\n",
      "{41, 38} ---> {48}:  conf = 0.571, sup = 0.04\n",
      "{39, 38} ---> {48}:  conf = 0.544, sup = 0.061\n",
      "{48, 38} ---> {39}:  conf = 0.765, sup = 0.061\n",
      "{41, 38} ---> {39}:  conf = 0.773, sup = 0.054\n",
      "{48, 39, 38} ---> {41}:  conf = 0.552, sup = 0.034\n",
      "{41, 48, 38} ---> {39}:  conf = 0.848, sup = 0.034\n",
      "{41, 39, 38} ---> {48}:  conf = 0.626, sup = 0.034\n"
     ]
    }
   ],
   "source": [
    "print(\"Reglas de asociacón con confianza de 0.5 y soporte minimo 0.034: \")\n",
    "\n",
    "F, soporte = apriori.apriori(dataset, min_support = 0.033, verbose = True)\n",
    "H = apriori.generate_rules(F, soporte, min_confidence=0.5, verbose = True)"
   ]
  },
  {
   "cell_type": "code",
   "execution_count": 13,
   "metadata": {
    "collapsed": true
   },
   "outputs": [],
   "source": [
    "#####################EJERCICIO 2#####################\n",
    "    \n",
    "                    #basketball.csv\n",
    "\n",
    "#X1: height (feet)\n",
    "#X2: weight (lbs)\n",
    "#X3: shot success %\n",
    "#X4: free thow % success\n",
    "#X5: points/game (avg)\n",
    "\n",
    "#Intentar predecir el shot success % X3 con\n",
    "# linear regression\n",
    "# lasso regression\n",
    "# alpha = 0.01, alpha = 0.1 & alpha = 0.5. "
   ]
  },
  {
   "cell_type": "code",
   "execution_count": 14,
   "metadata": {
    "collapsed": true
   },
   "outputs": [],
   "source": [
    "#####################EJERCICIO 2#####################\n",
    "\n",
    "#---------------------QUESTION 1---------------------\n",
    "# 1. ¿Cuál es el R2 en cada caso?\n",
    "\n",
    "#ANSWER:\n",
    "    #Linear Regression: R2 = 41%\n",
    "    #Lasso Regression @alpha 0.01 = 38%\n",
    "    #Lasso Regression @alpha 0.1 = 29%\n",
    "    #Lasso Regression @alpha 0.5 = 18%\n",
    "    \n",
    "#-------------------QUESTION 2-------------------------\n",
    "\n",
    "# 2. ¿Cuántas variables quedan disponibles al finalizar la regresión LASSO con cada valor de alpha?\n",
    "\n",
    "#ANSWER:\n",
    "    # @ alpha = 0.01: 2 variables, X2 y X5\n",
    "    # @ alpha = 0.1: 2 variables, X2 y X5\n",
    "    # @ alpha = 0.5: 2 variables, X2"
   ]
  },
  {
   "cell_type": "code",
   "execution_count": 15,
   "metadata": {},
   "outputs": [
    {
     "name": "stdout",
     "output_type": "stream",
     "text": [
      "----------Linear regression ----------------------\n",
      "\n",
      "\n",
      "R2 =  0.411865449032\n",
      "\n",
      "\n",
      "This means that  0.411865449032  of the shot success is determined by height, weight, free throw success, and average points per game.\n",
      "\n",
      "\n",
      "Linear Regression Model = \n",
      "+ 0.0370424918019\n",
      "+ 0.0353032646206 * X1\n",
      "+ 0.000554830562716 * X2\n",
      "+ 0.0320573009847 * X4\n",
      "+ 0.00333141873932 * X5\n"
     ]
    }
   ],
   "source": [
    "#------LINEAR REGRESSION------\n",
    "import pandas as pd\n",
    "from sklearn.linear_model import LinearRegression\n",
    "\n",
    "basket = pd.read_csv(\"Basketball.csv\", sep=\",\")\n",
    "basket.head()\n",
    "\n",
    "from sklearn.linear_model import LinearRegression\n",
    "from sklearn.model_selection import train_test_split\n",
    "\n",
    "# Separación de la variable objetivo y las explicativas\n",
    "target = 'X3'\n",
    "features = list(basket.columns)\n",
    "features.remove('X3')\n",
    "\n",
    "x = basket[features]\n",
    "y = basket[target]\n",
    "\n",
    "\n",
    "# Creación del modelo\n",
    "model = LinearRegression()\n",
    "model.fit(x, y)\n",
    "predict_train = model.predict(x)\n",
    "\n",
    "# Obtención de los parámetros de ajuste\n",
    "print('----------Linear regression ----------------------')\n",
    "print(\"\\n\")\n",
    "print('R2 = ', model.score(x, y))\n",
    "print(\"\\n\")\n",
    "print('This means that ', model.score(x, y), ' of the shot success is determined by height, weight, free throw success, and average points per game.')\n",
    "print(\"\\n\")\n",
    "\n",
    "\n",
    "print('Linear Regression Model = ')\n",
    "print('+', model.intercept_)\n",
    "print('+', model.coef_[0], '* X1')\n",
    "print('+', model.coef_[1],'* X2')\n",
    "print('+', model.coef_[2],'* X4')\n",
    "print('+', model.coef_[3],'* X5')"
   ]
  },
  {
   "cell_type": "code",
   "execution_count": 16,
   "metadata": {},
   "outputs": [
    {
     "name": "stdout",
     "output_type": "stream",
     "text": [
      "-------------LASSO REGRESSION @ alpha = 0.01-------------\n",
      "\n",
      "\n",
      "FOR ALPHA = 0.01, R2 (PREDICTION %) WILL BE:  0.383574053121\n",
      "\n",
      "\n",
      "\n",
      "\n",
      "Lasso Regression Model = \n",
      "+ 0.212422351194\n",
      "+ 0.0 * X1\n",
      "+ 0.000958900151005 * X2\n",
      "+ 0.0 * X4\n",
      "+ 0.0030030780963 * X5\n",
      "\n",
      "\n",
      "So this means that only  2 variables are being used for prediction.\n",
      "The two coefficients are: X2 and X5\n"
     ]
    }
   ],
   "source": [
    "#-------------LASSO REGRESSION @ alpha = 0.01-------------\n",
    "from sklearn.linear_model import Lasso\n",
    "print('-------------LASSO REGRESSION @ alpha = 0.01-------------')\n",
    "print(\"\\n\")\n",
    "model_lasso = Lasso(alpha = 0.01)\n",
    "model_lasso.fit(x, y)\n",
    "predict_train = model_lasso.predict(x)\n",
    "\n",
    "# Evaluación de R2\n",
    "print('FOR ALPHA = 0.01, R2 (PREDICTION %) WILL BE: ', model_lasso.score(x, y))\n",
    "print(\"\\n\")\n",
    "print(\"\\n\")\n",
    "print('Lasso Regression Model = ')\n",
    "print('+', model_lasso.intercept_)\n",
    "print('+', model_lasso.coef_[0], '* X1')\n",
    "print('+', model_lasso.coef_[1],'* X2')\n",
    "print('+', model_lasso.coef_[2],'* X4')\n",
    "print('+', model_lasso.coef_[3],'* X5')\n",
    "#print(model_lasso.coef_)\n",
    "print(\"\\n\")\n",
    "print(\"So this means that only \", len(model_lasso.coef_[model_lasso.coef_ !=0]), \"variables are being used for prediction.\")\n",
    "print(\"The two coefficients are: X2 and X5\")"
   ]
  },
  {
   "cell_type": "code",
   "execution_count": 17,
   "metadata": {},
   "outputs": [
    {
     "name": "stdout",
     "output_type": "stream",
     "text": [
      "-------------LASSO REGRESSION @ alpha = 0.1-------------\n",
      "\n",
      "\n",
      "FOR ALPHA = 0.1, R2 (PREDICTION %) WILL BE:  0.28736215903\n",
      "\n",
      "\n",
      "\n",
      "\n",
      "Lasso Regression Model = \n",
      "+ 0.265629723599\n",
      "+ 0.0 * X1\n",
      "+ 0.000853724217049 * X2\n",
      "+ 0.0 * X4\n",
      "+ 0.000362856801317 * X5\n",
      "\n",
      "\n",
      "So this means that only  2 variables are being used for prediction.\n",
      "The two coefficients are: X2 and X5\n"
     ]
    }
   ],
   "source": [
    "#-------------LASSO REGRESSION @ alpha = 0.1-------------\n",
    "from sklearn.linear_model import Lasso\n",
    "print('-------------LASSO REGRESSION @ alpha = 0.1-------------')\n",
    "print(\"\\n\")\n",
    "model_lasso = Lasso(alpha = 0.1)\n",
    "model_lasso.fit(x, y)\n",
    "predict_train = model_lasso.predict(x)\n",
    "\n",
    "# Evaluación de R2\n",
    "print('FOR ALPHA = 0.1, R2 (PREDICTION %) WILL BE: ', model_lasso.score(x, y))\n",
    "print(\"\\n\")\n",
    "print(\"\\n\")\n",
    "print('Lasso Regression Model = ')\n",
    "print('+', model_lasso.intercept_)\n",
    "print('+', model_lasso.coef_[0], '* X1')\n",
    "print('+', model_lasso.coef_[1],'* X2')\n",
    "print('+', model_lasso.coef_[2],'* X4')\n",
    "print('+', model_lasso.coef_[3],'* X5')\n",
    "#print(model_lasso.coef_)\n",
    "print(\"\\n\")\n",
    "print(\"So this means that only \", len(model_lasso.coef_[model_lasso.coef_ !=0]), \"variables are being used for prediction.\")\n",
    "print(\"The two coefficients are: X2 and X5\")"
   ]
  },
  {
   "cell_type": "code",
   "execution_count": 18,
   "metadata": {},
   "outputs": [
    {
     "name": "stdout",
     "output_type": "stream",
     "text": [
      "-------------LASSO REGRESSION @ alpha = 0.5 -------------\n",
      "\n",
      "\n",
      "FOR ALPHA = 0.5, R2 (PREDICTED %) WILL BE:  0.177714068234\n",
      "\n",
      "\n",
      "\n",
      "\n",
      "Lasso Regression Model = \n",
      "+ 0.363449135671\n",
      "+ 0.0 * X1\n",
      "+ 0.000408094104435 * X2\n",
      "+ 0.0 * X4\n",
      "+ 0.0 * X5\n",
      "\n",
      "\n",
      "So this means that only  1 variable is being applied to this prediction\n",
      "The coefficient is: X2\n"
     ]
    }
   ],
   "source": [
    "#-------------LASSO REGRESSION @ alpha = 0.5 -------------\n",
    "\n",
    "print('-------------LASSO REGRESSION @ alpha = 0.5 -------------')\n",
    "print(\"\\n\")\n",
    "\n",
    "model_lasso = Lasso(alpha = 0.5)\n",
    "model_lasso.fit(x, y)\n",
    "predict_train = model_lasso.predict(x)\n",
    "\n",
    "# Evaluación de R2\n",
    "print('FOR ALPHA = 0.5, R2 (PREDICTED %) WILL BE: ', model_lasso.score(x, y))\n",
    "print(\"\\n\")\n",
    "print(\"\\n\")\n",
    "print('Lasso Regression Model = ')\n",
    "print('+', model_lasso.intercept_)\n",
    "print('+', model_lasso.coef_[0], '* X1')\n",
    "print('+', model_lasso.coef_[1],'* X2')\n",
    "print('+', model_lasso.coef_[2],'* X4')\n",
    "print('+', model_lasso.coef_[3],'* X5')\n",
    "#print(model_lasso.coef_)\n",
    "print(\"\\n\")\n",
    "print(\"So this means that only \", len(model_lasso.coef_[model_lasso.coef_ !=0]), \"variable is being applied to this prediction\")\n",
    "print(\"The coefficient is: X2\")"
   ]
  },
  {
   "cell_type": "code",
   "execution_count": 19,
   "metadata": {
    "collapsed": true
   },
   "outputs": [],
   "source": [
    "#####################EJERCICIO 3#####################\n",
    "    \n",
    "                    # ionosphere.csv \n",
    "                    # apriori.py\n",
    "\n",
    "#IMPORTAR:\n",
    "# 34 primeras columnas = valores numéricos, \n",
    "# la ultima = una etiqueta de texto \n",
    "     #‘g’ cuando el resultado es bueno \n",
    "     #‘b’ cuando es malo. \n",
    "\n",
    "\n",
    "#CREAR MODELO DE CLASIFICACION USANDO        \n",
    "    # logistic regression classifiers, \n",
    "    # máquinas de vector soporte \n",
    "    # knn=3 neighbors\n",
    "    # knn=5 neighbors\n",
    "    #training set = 80% \n",
    "    #test = 20%"
   ]
  },
  {
   "cell_type": "code",
   "execution_count": 34,
   "metadata": {
    "collapsed": true
   },
   "outputs": [],
   "source": [
    "#####################EJERCICIO 3#####################\n",
    "\n",
    "\n",
    "#note: the percentages are an estimate (since they change every time)\n",
    "\n",
    "#---------------------QUESTION 1----------------------\n",
    "\n",
    "#1. ¿Qué clasificador muestra una mayor precisión?\n",
    "\n",
    "#ANSWER: \n",
    "    #SUPPORT VECTOR MACHINES: training_set = 94% PRECISION\n",
    "    #SUPPORT VECTOR MACHINES: test_set = 94% PRECISION\n",
    "    \n",
    "    \n",
    "\n",
    "\n",
    "#---------------------QUESTION 2----------------------\n",
    "#2. ¿Qué clasificador muestra un menor error de tipo I?\n",
    "# IN OTHER WORDS: lowest false positive rate (highest value in X-axis AUC)\n",
    "\n",
    "#ANSWER: \n",
    "        # SUPPORT VECTOR MACHINES: test_set: with AUC AUC = 92%\n",
    "        # SUPPORT VECTOR MACHINES: training_set: with AUC = 93%\n",
    "\n",
    "        \n",
    "        \n",
    "#---------------------QUESTION 3----------------------\n",
    "#3. ¿Qué clasificador muestra un menor error de tipo II? \n",
    "# IN OTHER WORDS: HIGHEST RECALL/Exhaustividad RATE, since RECALL = TP / (TP + FN)\n",
    "\n",
    "#ANSWER: \n",
    "        # SUPPORT VECTOR MACHINES: training_set: RECALL = 99%\n",
    "        # SUPPORT VECTOR MACHINES: test_set: RECALL = 92%\n",
    "        #KNN = 3, KNN = 5, False negatives = 0\n"
   ]
  },
  {
   "cell_type": "code",
   "execution_count": 35,
   "metadata": {},
   "outputs": [
    {
     "name": "stdout",
     "output_type": "stream",
     "text": [
      "Using matplotlib backend: Qt5Agg\n",
      "Populating the interactive namespace from numpy and matplotlib\n"
     ]
    },
    {
     "data": {
      "text/html": [
       "<div>\n",
       "<style>\n",
       "    .dataframe thead tr:only-child th {\n",
       "        text-align: right;\n",
       "    }\n",
       "\n",
       "    .dataframe thead th {\n",
       "        text-align: left;\n",
       "    }\n",
       "\n",
       "    .dataframe tbody tr th {\n",
       "        vertical-align: top;\n",
       "    }\n",
       "</style>\n",
       "<table border=\"1\" class=\"dataframe\">\n",
       "  <thead>\n",
       "    <tr style=\"text-align: right;\">\n",
       "      <th></th>\n",
       "      <th>0</th>\n",
       "      <th>1</th>\n",
       "      <th>2</th>\n",
       "      <th>3</th>\n",
       "      <th>4</th>\n",
       "      <th>5</th>\n",
       "      <th>6</th>\n",
       "      <th>7</th>\n",
       "      <th>8</th>\n",
       "      <th>9</th>\n",
       "      <th>...</th>\n",
       "      <th>25</th>\n",
       "      <th>26</th>\n",
       "      <th>27</th>\n",
       "      <th>28</th>\n",
       "      <th>29</th>\n",
       "      <th>30</th>\n",
       "      <th>31</th>\n",
       "      <th>32</th>\n",
       "      <th>33</th>\n",
       "      <th>34</th>\n",
       "    </tr>\n",
       "  </thead>\n",
       "  <tbody>\n",
       "    <tr>\n",
       "      <th>0</th>\n",
       "      <td>1</td>\n",
       "      <td>0</td>\n",
       "      <td>0.99539</td>\n",
       "      <td>-0.05889</td>\n",
       "      <td>0.85243</td>\n",
       "      <td>0.02306</td>\n",
       "      <td>0.83398</td>\n",
       "      <td>-0.37708</td>\n",
       "      <td>1.00000</td>\n",
       "      <td>0.03760</td>\n",
       "      <td>...</td>\n",
       "      <td>-0.51171</td>\n",
       "      <td>0.41078</td>\n",
       "      <td>-0.46168</td>\n",
       "      <td>0.21266</td>\n",
       "      <td>-0.34090</td>\n",
       "      <td>0.42267</td>\n",
       "      <td>-0.54487</td>\n",
       "      <td>0.18641</td>\n",
       "      <td>-0.45300</td>\n",
       "      <td>1</td>\n",
       "    </tr>\n",
       "    <tr>\n",
       "      <th>1</th>\n",
       "      <td>1</td>\n",
       "      <td>0</td>\n",
       "      <td>1.00000</td>\n",
       "      <td>-0.18829</td>\n",
       "      <td>0.93035</td>\n",
       "      <td>-0.36156</td>\n",
       "      <td>-0.10868</td>\n",
       "      <td>-0.93597</td>\n",
       "      <td>1.00000</td>\n",
       "      <td>-0.04549</td>\n",
       "      <td>...</td>\n",
       "      <td>-0.26569</td>\n",
       "      <td>-0.20468</td>\n",
       "      <td>-0.18401</td>\n",
       "      <td>-0.19040</td>\n",
       "      <td>-0.11593</td>\n",
       "      <td>-0.16626</td>\n",
       "      <td>-0.06288</td>\n",
       "      <td>-0.13738</td>\n",
       "      <td>-0.02447</td>\n",
       "      <td>0</td>\n",
       "    </tr>\n",
       "    <tr>\n",
       "      <th>2</th>\n",
       "      <td>1</td>\n",
       "      <td>0</td>\n",
       "      <td>1.00000</td>\n",
       "      <td>-0.03365</td>\n",
       "      <td>1.00000</td>\n",
       "      <td>0.00485</td>\n",
       "      <td>1.00000</td>\n",
       "      <td>-0.12062</td>\n",
       "      <td>0.88965</td>\n",
       "      <td>0.01198</td>\n",
       "      <td>...</td>\n",
       "      <td>-0.40220</td>\n",
       "      <td>0.58984</td>\n",
       "      <td>-0.22145</td>\n",
       "      <td>0.43100</td>\n",
       "      <td>-0.17365</td>\n",
       "      <td>0.60436</td>\n",
       "      <td>-0.24180</td>\n",
       "      <td>0.56045</td>\n",
       "      <td>-0.38238</td>\n",
       "      <td>1</td>\n",
       "    </tr>\n",
       "    <tr>\n",
       "      <th>3</th>\n",
       "      <td>1</td>\n",
       "      <td>0</td>\n",
       "      <td>1.00000</td>\n",
       "      <td>-0.45161</td>\n",
       "      <td>1.00000</td>\n",
       "      <td>1.00000</td>\n",
       "      <td>0.71216</td>\n",
       "      <td>-1.00000</td>\n",
       "      <td>0.00000</td>\n",
       "      <td>0.00000</td>\n",
       "      <td>...</td>\n",
       "      <td>0.90695</td>\n",
       "      <td>0.51613</td>\n",
       "      <td>1.00000</td>\n",
       "      <td>1.00000</td>\n",
       "      <td>-0.20099</td>\n",
       "      <td>0.25682</td>\n",
       "      <td>1.00000</td>\n",
       "      <td>-0.32382</td>\n",
       "      <td>1.00000</td>\n",
       "      <td>0</td>\n",
       "    </tr>\n",
       "    <tr>\n",
       "      <th>4</th>\n",
       "      <td>1</td>\n",
       "      <td>0</td>\n",
       "      <td>1.00000</td>\n",
       "      <td>-0.02401</td>\n",
       "      <td>0.94140</td>\n",
       "      <td>0.06531</td>\n",
       "      <td>0.92106</td>\n",
       "      <td>-0.23255</td>\n",
       "      <td>0.77152</td>\n",
       "      <td>-0.16399</td>\n",
       "      <td>...</td>\n",
       "      <td>-0.65158</td>\n",
       "      <td>0.13290</td>\n",
       "      <td>-0.53206</td>\n",
       "      <td>0.02431</td>\n",
       "      <td>-0.62197</td>\n",
       "      <td>-0.05707</td>\n",
       "      <td>-0.59573</td>\n",
       "      <td>-0.04608</td>\n",
       "      <td>-0.65697</td>\n",
       "      <td>1</td>\n",
       "    </tr>\n",
       "    <tr>\n",
       "      <th>5</th>\n",
       "      <td>1</td>\n",
       "      <td>0</td>\n",
       "      <td>0.02337</td>\n",
       "      <td>-0.00592</td>\n",
       "      <td>-0.09924</td>\n",
       "      <td>-0.11949</td>\n",
       "      <td>-0.00763</td>\n",
       "      <td>-0.11824</td>\n",
       "      <td>0.14706</td>\n",
       "      <td>0.06637</td>\n",
       "      <td>...</td>\n",
       "      <td>-0.01535</td>\n",
       "      <td>-0.03240</td>\n",
       "      <td>0.09223</td>\n",
       "      <td>-0.07859</td>\n",
       "      <td>0.00732</td>\n",
       "      <td>0.00000</td>\n",
       "      <td>0.00000</td>\n",
       "      <td>-0.00039</td>\n",
       "      <td>0.12011</td>\n",
       "      <td>0</td>\n",
       "    </tr>\n",
       "    <tr>\n",
       "      <th>6</th>\n",
       "      <td>1</td>\n",
       "      <td>0</td>\n",
       "      <td>0.97588</td>\n",
       "      <td>-0.10602</td>\n",
       "      <td>0.94601</td>\n",
       "      <td>-0.20800</td>\n",
       "      <td>0.92806</td>\n",
       "      <td>-0.28350</td>\n",
       "      <td>0.85996</td>\n",
       "      <td>-0.27342</td>\n",
       "      <td>...</td>\n",
       "      <td>-0.81634</td>\n",
       "      <td>0.13659</td>\n",
       "      <td>-0.82510</td>\n",
       "      <td>0.04606</td>\n",
       "      <td>-0.82395</td>\n",
       "      <td>-0.04262</td>\n",
       "      <td>-0.81318</td>\n",
       "      <td>-0.13832</td>\n",
       "      <td>-0.80975</td>\n",
       "      <td>1</td>\n",
       "    </tr>\n",
       "    <tr>\n",
       "      <th>7</th>\n",
       "      <td>0</td>\n",
       "      <td>0</td>\n",
       "      <td>0.00000</td>\n",
       "      <td>0.00000</td>\n",
       "      <td>0.00000</td>\n",
       "      <td>0.00000</td>\n",
       "      <td>1.00000</td>\n",
       "      <td>-1.00000</td>\n",
       "      <td>0.00000</td>\n",
       "      <td>0.00000</td>\n",
       "      <td>...</td>\n",
       "      <td>1.00000</td>\n",
       "      <td>1.00000</td>\n",
       "      <td>1.00000</td>\n",
       "      <td>0.00000</td>\n",
       "      <td>0.00000</td>\n",
       "      <td>1.00000</td>\n",
       "      <td>1.00000</td>\n",
       "      <td>0.00000</td>\n",
       "      <td>0.00000</td>\n",
       "      <td>0</td>\n",
       "    </tr>\n",
       "    <tr>\n",
       "      <th>8</th>\n",
       "      <td>1</td>\n",
       "      <td>0</td>\n",
       "      <td>0.96355</td>\n",
       "      <td>-0.07198</td>\n",
       "      <td>1.00000</td>\n",
       "      <td>-0.14333</td>\n",
       "      <td>1.00000</td>\n",
       "      <td>-0.21313</td>\n",
       "      <td>1.00000</td>\n",
       "      <td>-0.36174</td>\n",
       "      <td>...</td>\n",
       "      <td>-0.65440</td>\n",
       "      <td>0.57577</td>\n",
       "      <td>-0.69712</td>\n",
       "      <td>0.25435</td>\n",
       "      <td>-0.63919</td>\n",
       "      <td>0.45114</td>\n",
       "      <td>-0.72779</td>\n",
       "      <td>0.38895</td>\n",
       "      <td>-0.73420</td>\n",
       "      <td>1</td>\n",
       "    </tr>\n",
       "    <tr>\n",
       "      <th>9</th>\n",
       "      <td>1</td>\n",
       "      <td>0</td>\n",
       "      <td>-0.01864</td>\n",
       "      <td>-0.08459</td>\n",
       "      <td>0.00000</td>\n",
       "      <td>0.00000</td>\n",
       "      <td>0.00000</td>\n",
       "      <td>0.00000</td>\n",
       "      <td>0.11470</td>\n",
       "      <td>-0.26810</td>\n",
       "      <td>...</td>\n",
       "      <td>-0.01326</td>\n",
       "      <td>0.20645</td>\n",
       "      <td>-0.02294</td>\n",
       "      <td>0.00000</td>\n",
       "      <td>0.00000</td>\n",
       "      <td>0.16595</td>\n",
       "      <td>0.24086</td>\n",
       "      <td>-0.08208</td>\n",
       "      <td>0.38065</td>\n",
       "      <td>0</td>\n",
       "    </tr>\n",
       "  </tbody>\n",
       "</table>\n",
       "<p>10 rows × 35 columns</p>\n",
       "</div>"
      ],
      "text/plain": [
       "   0   1        2        3        4        5        6        7        8   \\\n",
       "0   1   0  0.99539 -0.05889  0.85243  0.02306  0.83398 -0.37708  1.00000   \n",
       "1   1   0  1.00000 -0.18829  0.93035 -0.36156 -0.10868 -0.93597  1.00000   \n",
       "2   1   0  1.00000 -0.03365  1.00000  0.00485  1.00000 -0.12062  0.88965   \n",
       "3   1   0  1.00000 -0.45161  1.00000  1.00000  0.71216 -1.00000  0.00000   \n",
       "4   1   0  1.00000 -0.02401  0.94140  0.06531  0.92106 -0.23255  0.77152   \n",
       "5   1   0  0.02337 -0.00592 -0.09924 -0.11949 -0.00763 -0.11824  0.14706   \n",
       "6   1   0  0.97588 -0.10602  0.94601 -0.20800  0.92806 -0.28350  0.85996   \n",
       "7   0   0  0.00000  0.00000  0.00000  0.00000  1.00000 -1.00000  0.00000   \n",
       "8   1   0  0.96355 -0.07198  1.00000 -0.14333  1.00000 -0.21313  1.00000   \n",
       "9   1   0 -0.01864 -0.08459  0.00000  0.00000  0.00000  0.00000  0.11470   \n",
       "\n",
       "        9  ...       25       26       27       28       29       30       31  \\\n",
       "0  0.03760 ... -0.51171  0.41078 -0.46168  0.21266 -0.34090  0.42267 -0.54487   \n",
       "1 -0.04549 ... -0.26569 -0.20468 -0.18401 -0.19040 -0.11593 -0.16626 -0.06288   \n",
       "2  0.01198 ... -0.40220  0.58984 -0.22145  0.43100 -0.17365  0.60436 -0.24180   \n",
       "3  0.00000 ...  0.90695  0.51613  1.00000  1.00000 -0.20099  0.25682  1.00000   \n",
       "4 -0.16399 ... -0.65158  0.13290 -0.53206  0.02431 -0.62197 -0.05707 -0.59573   \n",
       "5  0.06637 ... -0.01535 -0.03240  0.09223 -0.07859  0.00732  0.00000  0.00000   \n",
       "6 -0.27342 ... -0.81634  0.13659 -0.82510  0.04606 -0.82395 -0.04262 -0.81318   \n",
       "7  0.00000 ...  1.00000  1.00000  1.00000  0.00000  0.00000  1.00000  1.00000   \n",
       "8 -0.36174 ... -0.65440  0.57577 -0.69712  0.25435 -0.63919  0.45114 -0.72779   \n",
       "9 -0.26810 ... -0.01326  0.20645 -0.02294  0.00000  0.00000  0.16595  0.24086   \n",
       "\n",
       "        32       33  34  \n",
       "0  0.18641 -0.45300   1  \n",
       "1 -0.13738 -0.02447   0  \n",
       "2  0.56045 -0.38238   1  \n",
       "3 -0.32382  1.00000   0  \n",
       "4 -0.04608 -0.65697   1  \n",
       "5 -0.00039  0.12011   0  \n",
       "6 -0.13832 -0.80975   1  \n",
       "7  0.00000  0.00000   0  \n",
       "8  0.38895 -0.73420   1  \n",
       "9 -0.08208  0.38065   0  \n",
       "\n",
       "[10 rows x 35 columns]"
      ]
     },
     "execution_count": 35,
     "metadata": {},
     "output_type": "execute_result"
    }
   ],
   "source": [
    "%pylab\n",
    "%matplotlib inline\n",
    "\n",
    "#IMPORT DATA AS A NUMERIC DATAFRAME\n",
    "ionosphere = pd.read_csv(\"ionosphere.csv\", sep=\",\", header = None)\n",
    "\n",
    "#THE LAST ROW IS NOT NUMERIC. CHANGE THIS USING PANDAS GET_DUMMIES\n",
    "ionosphere_numeric = pd.get_dummies(ionosphere)\n",
    "df = ionosphere_numeric.drop('34_b', axis=1) \n",
    "df.columns.values[34] = 34 \n",
    "\n",
    "df.head(10)"
   ]
  },
  {
   "cell_type": "code",
   "execution_count": 36,
   "metadata": {
    "collapsed": true
   },
   "outputs": [],
   "source": [
    "# DEFINING TARGET AND FEATURES\n",
    "target = 34\n",
    "features = list(df.columns)\n",
    "features.remove(34)\n",
    "\n",
    "x = df[features]\n",
    "y = df[target]"
   ]
  },
  {
   "cell_type": "code",
   "execution_count": 37,
   "metadata": {},
   "outputs": [],
   "source": [
    "# CREATE A TRAINING (80%) AND TEST SET (20%)\n",
    "from sklearn.cross_validation import train_test_split\n",
    "x_train, x_test, y_train, y_test = train_test_split(x, y, test_size = 0.2, train_size = 0.8)"
   ]
  },
  {
   "cell_type": "code",
   "execution_count": 38,
   "metadata": {
    "collapsed": true
   },
   "outputs": [],
   "source": [
    "# METRICS FOR CLASSIFICATION MODEL: accuracy, AUC, confusion matrix, F1, precision, Recall, ROC Curve\n",
    "from sklearn.metrics import accuracy_score, auc, confusion_matrix, f1_score, precision_score, recall_score, roc_curve\n",
    "from sklearn.linear_model.logistic import LogisticRegression\n",
    "from sklearn.svm import SVC\n",
    "\n",
    "def metricas_modelos(y_true, y_pred):\n",
    "    from sklearn.metrics import accuracy_score, auc, confusion_matrix, f1_score, precision_score, recall_score, roc_curve\n",
    "\n",
    "    # Obtención de matriz de confusión\n",
    "    confusion_matrix = confusion_matrix(y_true, y_pred)\n",
    "\n",
    "    print('La matriz de confusión es')\n",
    "    print(confusion_matrix)\n",
    "    print(\"\\n\")\n",
    "\n",
    "    print('Precisión:', accuracy_score(y_true, y_pred))\n",
    "    print('Exactitud:', precision_score(y_true, y_pred))\n",
    "    print('Exhaustividad:', recall_score(y_true, y_pred))\n",
    "    print('F1:', f1_score(y_true, y_pred))\n",
    "\n",
    "    false_positive_rate, recall, thresholds = roc_curve(y_true, y_pred)\n",
    "    roc_auc = auc(false_positive_rate, recall)\n",
    "\n",
    "    \n",
    "    print(\"\\n\")\n",
    "    print('AUC:', auc(false_positive_rate, recall))\n",
    "\n",
    "    plot(false_positive_rate, recall, 'b')\n",
    "    plot([0, 1], [0, 1], 'r--')\n",
    "    title('AUC = %0.2f' % roc_auc)"
   ]
  },
  {
   "cell_type": "code",
   "execution_count": 39,
   "metadata": {},
   "outputs": [
    {
     "name": "stdout",
     "output_type": "stream",
     "text": [
      "\n",
      "\n",
      "-------SUPPORT VECTOR MACHINES TRAINING MODEL-------------\n",
      "\n",
      "\n",
      "La matriz de confusión es\n",
      "[[ 86  13]\n",
      " [  2 179]]\n",
      "\n",
      "\n",
      "Precisión: 0.946428571429\n",
      "Exactitud: 0.932291666667\n",
      "Exhaustividad: 0.988950276243\n",
      "F1: 0.959785522788\n",
      "\n",
      "\n",
      "AUC: 0.928818572465\n",
      "\n",
      "\n"
     ]
    },
    {
     "data": {
      "image/png": "[encoded data removed]",
      "text/plain": [
       "<matplotlib.figure.Figure at 0x1e012b9b240>"
      ]
     },
     "metadata": {},
     "output_type": "display_data"
    }
   ],
   "source": [
    "#-------SUPPORT VECTOR MACHINES TRAINING MODEL-------\n",
    "print(\"\\n\")\n",
    "print(\"-------SUPPORT VECTOR MACHINES TRAINING MODEL-------------\")\n",
    "print(\"\\n\")\n",
    "svm_classifier = SVC().fit(x_train, y_train)\n",
    "y_pred         = svm_classifier.predict(x_train)\n",
    "metricas_modelos(y_train, y_pred)\n",
    "print(\"\\n\")"
   ]
  },
  {
   "cell_type": "code",
   "execution_count": 40,
   "metadata": {},
   "outputs": [
    {
     "name": "stdout",
     "output_type": "stream",
     "text": [
      "\n",
      "\n",
      "-------SUPPORT VECTOR MACHINES TESTING MODEL-------------\n",
      "\n",
      "\n",
      "La matriz de confusión es\n",
      "[[23  4]\n",
      " [ 0 44]]\n",
      "\n",
      "\n",
      "Precisión: 0.943661971831\n",
      "Exactitud: 0.916666666667\n",
      "Exhaustividad: 1.0\n",
      "F1: 0.95652173913\n",
      "\n",
      "\n",
      "AUC: 0.925925925926\n"
     ]
    },
    {
     "data": {
      "image/png": "[encoded data removed]",
      "text/plain": [
       "<matplotlib.figure.Figure at 0x1e012ab8438>"
      ]
     },
     "metadata": {},
     "output_type": "display_data"
    }
   ],
   "source": [
    "#-------SUPPORT VECTOR MACHINES TESTING MODEL-------\n",
    "print(\"\\n\")\n",
    "print(\"-------SUPPORT VECTOR MACHINES TESTING MODEL-------------\")\n",
    "print(\"\\n\")\n",
    "y_pred     = svm_classifier.predict(x_test)\n",
    "metricas_modelos(y_test, y_pred)"
   ]
  },
  {
   "cell_type": "code",
   "execution_count": 41,
   "metadata": {},
   "outputs": [
    {
     "name": "stdout",
     "output_type": "stream",
     "text": [
      "\n",
      "\n",
      "-------LOGISTIC REGRESSION TRAINING MODEL-------------\n",
      "\n",
      "\n",
      "La matriz de confusión es\n",
      "[[ 79  20]\n",
      " [  5 176]]\n",
      "\n",
      "\n",
      "Precisión: 0.910714285714\n",
      "Exactitud: 0.897959183673\n",
      "Exhaustividad: 0.972375690608\n",
      "F1: 0.933687002653\n",
      "\n",
      "\n",
      "AUC: 0.885177744294\n",
      "\n",
      "\n"
     ]
    },
    {
     "data": {
      "image/png": "[encoded data removed]",
      "text/plain": [
       "<matplotlib.figure.Figure at 0x1e012b7b400>"
      ]
     },
     "metadata": {},
     "output_type": "display_data"
    }
   ],
   "source": [
    "#----------LOGISTIC REGRESSION TRAINING MODEL-------------\n",
    "print(\"\\n\")\n",
    "print(\"-------LOGISTIC REGRESSION TRAINING MODEL-------------\")\n",
    "print(\"\\n\")\n",
    "model = LogisticRegression().fit(x_train, y_train)\n",
    "y_pred_train = model.predict(x_train)\n",
    "y_pred_test = model.predict(x_test)\n",
    "metricas_modelos(y_train, y_pred_train)\n",
    "print(\"\\n\")"
   ]
  },
  {
   "cell_type": "code",
   "execution_count": 42,
   "metadata": {},
   "outputs": [
    {
     "name": "stdout",
     "output_type": "stream",
     "text": [
      "\n",
      "\n",
      "-------LOGISTIC REGRESSION TESTING MODEL-------------\n",
      "\n",
      "\n",
      "La matriz de confusión es\n",
      "[[19  8]\n",
      " [ 1 43]]\n",
      "\n",
      "\n",
      "Precisión: 0.87323943662\n",
      "Exactitud: 0.843137254902\n",
      "Exhaustividad: 0.977272727273\n",
      "F1: 0.905263157895\n",
      "\n",
      "\n",
      "AUC: 0.840488215488\n",
      "\n",
      "\n"
     ]
    },
    {
     "data": {
      "image/png": "[encoded data removed]",
      "text/plain": [
       "<matplotlib.figure.Figure at 0x1e012a95630>"
      ]
     },
     "metadata": {},
     "output_type": "display_data"
    }
   ],
   "source": [
    "# ---------------LOGISTIC REGRESSION TESTING MODEL-----------------\n",
    "print(\"\\n\")\n",
    "print(\"-------LOGISTIC REGRESSION TESTING MODEL-------------\")\n",
    "print(\"\\n\")\n",
    "metricas_modelos(y_test, y_pred_test)\n",
    "print(\"\\n\")"
   ]
  },
  {
   "cell_type": "code",
   "execution_count": 53,
   "metadata": {},
   "outputs": [
    {
     "name": "stdout",
     "output_type": "stream",
     "text": [
      "\n",
      "\n",
      "-------TRAINING SET WITH KNN = 3 NEIGHBOURS-------------\n",
      "\n",
      "\n",
      "La matriz de confusión es\n",
      "[[ 72  27]\n",
      " [  2 179]]\n",
      "\n",
      "\n",
      "Precisión: 0.896428571429\n",
      "Exactitud: 0.868932038835\n",
      "Exhaustividad: 0.988950276243\n",
      "F1: 0.925064599483\n",
      "\n",
      "\n",
      "AUC: 0.858111501758\n"
     ]
    },
    {
     "data": {
      "image/png": "[encoded data removed]",
      "text/plain": [
       "<matplotlib.figure.Figure at 0x1e013e67630>"
      ]
     },
     "metadata": {},
     "output_type": "display_data"
    }
   ],
   "source": [
    "#------------------ TRAINING SET WITH KNN = 3 NEIGHBOURS\n",
    "print(\"\\n\")\n",
    "print(\"-------TRAINING SET WITH KNN = 3 NEIGHBOURS-------------\")\n",
    "print(\"\\n\")\n",
    "\n",
    "from sklearn.neighbors import KNeighborsClassifier\n",
    "\n",
    "model = KNeighborsClassifier(n_neighbors = 3)\n",
    "classifier_knn3 = model.fit(x_train, y_train)\n",
    "y_pred     = classifier_knn3.predict(x_train)\n",
    "metricas_modelos(y_train, y_pred)"
   ]
  },
  {
   "cell_type": "code",
   "execution_count": 54,
   "metadata": {},
   "outputs": [
    {
     "name": "stdout",
     "output_type": "stream",
     "text": [
      "\n",
      "\n",
      "-------TEST SET WITH KNN = 3 NEIGHBOURS-------------\n",
      "\n",
      "\n",
      "La matriz de confusión es\n",
      "[[16 11]\n",
      " [ 1 43]]\n",
      "\n",
      "\n",
      "Precisión: 0.830985915493\n",
      "Exactitud: 0.796296296296\n",
      "Exhaustividad: 0.977272727273\n",
      "F1: 0.877551020408\n",
      "\n",
      "\n",
      "AUC: 0.784932659933\n"
     ]
    },
    {
     "data": {
      "image/png": "[encoded data removed]",
      "text/plain": [
       "<matplotlib.figure.Figure at 0x1e013e3d898>"
      ]
     },
     "metadata": {},
     "output_type": "display_data"
    }
   ],
   "source": [
    "#------------------ TEST SET WITH KNN = 3 NEIGHBOURS\n",
    "print(\"\\n\")\n",
    "print(\"-------TEST SET WITH KNN = 3 NEIGHBOURS-------------\")\n",
    "print(\"\\n\")\n",
    "y_pred = classifier_knn3.predict(x_test)\n",
    "metricas_modelos(y_test, y_pred)"
   ]
  },
  {
   "cell_type": "code",
   "execution_count": 51,
   "metadata": {},
   "outputs": [
    {
     "name": "stdout",
     "output_type": "stream",
     "text": [
      "\n",
      "\n",
      "-------TRAINING SET WITH KNN = 5 NEIGHBOURS-------------\n",
      "\n",
      "\n",
      "La matriz de confusión es\n",
      "[[ 65  34]\n",
      " [  3 178]]\n",
      "\n",
      "\n",
      "Precisión: 0.867857142857\n",
      "Exactitud: 0.839622641509\n",
      "Exhaustividad: 0.983425414365\n",
      "F1: 0.905852417303\n",
      "\n",
      "\n",
      "AUC: 0.819995535465\n"
     ]
    },
    {
     "data": {
      "image/png": "[encoded data removed]",
      "text/plain": [
       "<matplotlib.figure.Figure at 0x1e012d986a0>"
      ]
     },
     "metadata": {},
     "output_type": "display_data"
    }
   ],
   "source": [
    "#------------------ TRAINING SET WITH KNN = 5 NEIGHBOURS-----------\n",
    "print(\"\\n\")\n",
    "print(\"-------TRAINING SET WITH KNN = 5 NEIGHBOURS-------------\")\n",
    "print(\"\\n\")\n",
    "model = KNeighborsClassifier(n_neighbors = 5)\n",
    "classifier_knn5 = model.fit(x_train, y_train)\n",
    "y_pred = classifier_knn5.predict(x_train)\n",
    "metricas_modelos(y_train, y_pred)"
   ]
  },
  {
   "cell_type": "code",
   "execution_count": 52,
   "metadata": {},
   "outputs": [
    {
     "name": "stdout",
     "output_type": "stream",
     "text": [
      "\n",
      "\n",
      "-------TEST SET WITH KNN = 5 NEIGHBOURS-------------\n",
      "\n",
      "\n",
      "La matriz de confusión es\n",
      "[[17 10]\n",
      " [ 1 43]]\n",
      "\n",
      "\n",
      "Precisión: 0.845070422535\n",
      "Exactitud: 0.811320754717\n",
      "Exhaustividad: 0.977272727273\n",
      "F1: 0.886597938144\n",
      "\n",
      "\n",
      "AUC: 0.803451178451\n"
     ]
    },
    {
     "data": {
      "image/png": "[encoded data removed]",
      "text/plain": [
       "<matplotlib.figure.Figure at 0x1e012e0c0b8>"
      ]
     },
     "metadata": {},
     "output_type": "display_data"
    }
   ],
   "source": [
    "#------------------ TEST SET WITH KNN = 5 NEIGHBOURS-----------\n",
    "print(\"\\n\")\n",
    "print(\"-------TEST SET WITH KNN = 5 NEIGHBOURS-------------\")\n",
    "print(\"\\n\")\n",
    "y_pred = classifier_knn5.predict(x_test)\n",
    "metricas_modelos(y_test, y_pred)"
   ]
  }
 ],
 "metadata": {
  "kernelspec": {
   "display_name": "Python 3",
   "language": "python",
   "name": "python3"
  },
  "language_info": {
   "codemirror_mode": {
    "name": "ipython",
    "version": 3
   },
   "file_extension": ".py",
   "mimetype": "text/x-python",
   "name": "python",
   "nbconvert_exporter": "python",
   "pygments_lexer": "ipython3",
   "version": "3.6.4"
  }
 },
 "nbformat": 4,
 "nbformat_minor": 2
}
